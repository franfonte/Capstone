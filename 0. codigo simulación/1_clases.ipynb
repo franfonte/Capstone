{
 "cells": [
  {
   "cell_type": "code",
   "execution_count": 1,
   "id": "339b4e77",
   "metadata": {},
   "outputs": [],
   "source": [
    "# Librerias necesarias\n",
    "import os\n",
    "import sys\n",
    "import json\n",
    "import numpy as np"
   ]
  },
  {
   "cell_type": "code",
   "execution_count": 2,
   "id": "99a94f14",
   "metadata": {},
   "outputs": [],
   "source": [
    "# Cargo los datos necesarios y transformo las llaves nuevamente a int (que se habian vuelto str)\n",
    "incertidumbre = {}\n",
    "for hospital in range(0,4): # 0 son llegadas a WL\n",
    "    incertidumbre[hospital] = {}\n",
    "    for requerimiento in range(1,4):\n",
    "        incertidumbre[hospital][requerimiento] = {}\n",
    "\n",
    "with open(\"resultados incertidumbre/incertidumbre_simulada.json\", \"r\") as file:\n",
    "    incertidumbre_keys_str = json.load(file)\n",
    "\n",
    "for hospital in range(0,4): # 0 son llegadas a WL\n",
    "    for requerimiento in range(1,4):\n",
    "        for grd in range(1,9):\n",
    "            incertidumbre[hospital][requerimiento][grd] = []\n",
    "            lista = incertidumbre_keys_str[str(hospital)][str(requerimiento)][str(grd)]\n",
    "            if lista != []:\n",
    "                for data in lista:\n",
    "                    arreglado = {\n",
    "                    'TI': data[\"TI\"],\n",
    "                    'camino': {1: data['camino'][\"1\"], 2: data['camino'][\"2\"], 3: data['camino'][\"3\"]},\n",
    "                    'espera': {1: data['espera'][\"1\"], 2: data['espera'][\"2\"], 3: data['espera'][\"3\"]}\n",
    "                    }\n",
    "                    incertidumbre[hospital][requerimiento][grd].append(arreglado)\n",
    "            else:\n",
    "                incertidumbre[hospital][requerimiento][grd] = []\n"
   ]
  },
  {
   "cell_type": "code",
   "execution_count": 3,
   "id": "7464035c",
   "metadata": {},
   "outputs": [],
   "source": [
    "class Paciente:\n",
    "    CONTADOR_ID = 1  # Variable de clase para contar el número de Pacientes creados\n",
    "\n",
    "    def __init__(self, hospital_llegada, requerimiento_inicial, grd, datos_incertidumbre):\n",
    "        self.id = Paciente.CONTADOR_ID  # Asigna un ID único al Paciente\n",
    "        self.hospital_llegada = hospital_llegada\n",
    "        self.requerimiento_inicial = requerimiento_inicial\n",
    "        self.grd = grd\n",
    "        self.ti_inicial = datos_incertidumbre[\"TI\"]\n",
    "        self.camino = datos_incertidumbre[\"camino\"]\n",
    "        self.espera = datos_incertidumbre[\"espera\"]\n",
    "        self.log_eventos = []\n",
    "        self.ti_evento_actual = datos_incertidumbre[\"TI\"]\n",
    "        self.tiempo_actual = datos_incertidumbre[\"TI\"]\n",
    "        self.hospital_actual = hospital_llegada\n",
    "        if hospital_llegada == 0:\n",
    "            self.unidad_actual = \"WL\"\n",
    "        else:\n",
    "            self.unidad_actual = \"ED\"\n",
    "        self.costo_social = 0\n",
    "        Paciente.CONTADOR_ID += 1  # Incrementa el contador de Pacientes\n",
    "\n",
    "    def agregar_log_evento(self):\n",
    "        if self.hospital_actual == 0:\n",
    "            hospital = \"WL\"\n",
    "        else:\n",
    "            hospital = f\"Hospital_{self.hospital_actual}\"\n",
    "        new_row = {\n",
    "            'ID': self.id,\n",
    "            'MS_GRD': self.grd,\n",
    "            'UBICACIÓN': hospital + \"_\" + self.unidad_actual, # ejemplo por mientras\n",
    "            'TI': self.ti_evento_actual,\n",
    "            'TF': self.tiempo_actual,\n",
    "            'HOSPITAL': hospital, # ejemplo por mientras\n",
    "            'UNIDAD': self.unidad_actual # ejemplo por mientras\n",
    "        }\n",
    "        self.log_eventos.append(new_row)\n",
    "\n",
    "    def __str__(self):\n",
    "        return f\"Paciente {self.id} | GRD: {self.grd} | Hospital actual: {self.hospital_actual} | Unidad: {self.unidad_actual} | Tiempo actual: {self.tiempo_actual}\"\n"
   ]
  },
  {
   "cell_type": "code",
   "execution_count": 4,
   "id": "dc1f578b",
   "metadata": {},
   "outputs": [],
   "source": [
    "# Se instancian a todos los pacientes a partir de los datos de incertidumbre\n",
    "pacientes = {}\n",
    "lista_pacientes = []\n",
    "for hospital in range(0,4): # 0 son llegadas a WL\n",
    "    pacientes[hospital] = {}\n",
    "    for requerimiento in range(1,4):\n",
    "        pacientes[hospital][requerimiento] = {}\n",
    "        for grd in range(1,9):\n",
    "            pacientes[hospital][requerimiento][grd] = []\n",
    "            cantidad_pacientes = len(incertidumbre[hospital][requerimiento][grd])\n",
    "            if cantidad_pacientes != 0:\n",
    "                for i in range(cantidad_pacientes):\n",
    "                    paciente = Paciente(hospital, requerimiento, grd, incertidumbre[hospital][requerimiento][grd][i]) # i es el index de la lista\n",
    "                    pacientes[hospital][requerimiento][grd].append(paciente)\n",
    "                    lista_pacientes.append(paciente)\n",
    "            else:\n",
    "                pacientes[hospital][requerimiento][grd] = []\n",
    "\n",
    "# Se generan tantas listas como pacientes haya\n",
    "def agrupar_pacientes_por_llegada(pacientes):\n",
    "    pacientes_separados_por_llegada = {}\n",
    "    for paciente in pacientes:\n",
    "        dia = paciente.ti_inicial\n",
    "        if dia not in pacientes_separados_por_llegada:\n",
    "            pacientes_separados_por_llegada[dia] = []\n",
    "        pacientes_separados_por_llegada[dia].append(paciente)\n",
    "    return pacientes_separados_por_llegada\n",
    "\n",
    "pacientes_separados_por_llegada = agrupar_pacientes_por_llegada(lista_pacientes)"
   ]
  },
  {
   "cell_type": "code",
   "execution_count": 18,
   "id": "66f45a4c",
   "metadata": {},
   "outputs": [
    {
     "data": {
      "text/plain": [
       "[<__main__.Paciente at 0x123727b20>,\n",
       " <__main__.Paciente at 0x16c0472e0>,\n",
       " <__main__.Paciente at 0x16c047310>,\n",
       " <__main__.Paciente at 0x16c047340>,\n",
       " <__main__.Paciente at 0x16c328bb0>,\n",
       " <__main__.Paciente at 0x16c328be0>,\n",
       " <__main__.Paciente at 0x16c328c10>,\n",
       " <__main__.Paciente at 0x16c328c40>,\n",
       " <__main__.Paciente at 0x16c4ca350>,\n",
       " <__main__.Paciente at 0x16c4ca380>,\n",
       " <__main__.Paciente at 0x16c4ca290>,\n",
       " <__main__.Paciente at 0x174045300>,\n",
       " <__main__.Paciente at 0x174045330>,\n",
       " <__main__.Paciente at 0x17430c8e0>,\n",
       " <__main__.Paciente at 0x17430c910>,\n",
       " <__main__.Paciente at 0x17430c940>,\n",
       " <__main__.Paciente at 0x1745cead0>,\n",
       " <__main__.Paciente at 0x1745ceb00>,\n",
       " <__main__.Paciente at 0x17476f0a0>,\n",
       " <__main__.Paciente at 0x17476f0d0>,\n",
       " <__main__.Paciente at 0x17476f100>,\n",
       " <__main__.Paciente at 0x174cf5ba0>,\n",
       " <__main__.Paciente at 0x174cf5bd0>,\n",
       " <__main__.Paciente at 0x174f963e0>,\n",
       " <__main__.Paciente at 0x175119150>,\n",
       " <__main__.Paciente at 0x1752722c0>,\n",
       " <__main__.Paciente at 0x175592050>,\n",
       " <__main__.Paciente at 0x17619d750>,\n",
       " <__main__.Paciente at 0x17609b3a0>,\n",
       " <__main__.Paciente at 0x1769a1de0>,\n",
       " <__main__.Paciente at 0x1769a1e10>,\n",
       " <__main__.Paciente at 0x1769a1e40>,\n",
       " <__main__.Paciente at 0x176ac4940>,\n",
       " <__main__.Paciente at 0x176ba9e70>,\n",
       " <__main__.Paciente at 0x176d04250>,\n",
       " <__main__.Paciente at 0x176de83a0>,\n",
       " <__main__.Paciente at 0x176eea5f0>]"
      ]
     },
     "execution_count": 18,
     "metadata": {},
     "output_type": "execute_result"
    }
   ],
   "source": [
    "# Aqui podemos ver los objetos de clase Pacientes que llegaron en x ciclo\n",
    "x = 2\n",
    "pacientes_separados_por_llegada.get(x)"
   ]
  },
  {
   "cell_type": "code",
   "execution_count": 6,
   "id": "0a06b1b4",
   "metadata": {},
   "outputs": [],
   "source": [
    "class Simulacion:\n",
    "\n",
    "    def __init__(self):\n",
    "        pass\n",
    "\n",
    "    def __str__(self):\n",
    "        pass"
   ]
  },
  {
   "cell_type": "code",
   "execution_count": 7,
   "id": "5090c0b4",
   "metadata": {},
   "outputs": [],
   "source": [
    "class Hospital:\n",
    "\n",
    "    def __init__(self):\n",
    "        pass\n",
    "\n",
    "    def __str__(self):\n",
    "        pass"
   ]
  },
  {
   "cell_type": "code",
   "execution_count": 8,
   "id": "0a2d02f3",
   "metadata": {},
   "outputs": [],
   "source": [
    "class WL:\n",
    "\n",
    "    def __init__(self):\n",
    "        pass\n",
    "\n",
    "    def __str__(self):\n",
    "        pass"
   ]
  },
  {
   "cell_type": "code",
   "execution_count": 9,
   "id": "8cb2478c",
   "metadata": {},
   "outputs": [],
   "source": [
    "class PS:\n",
    "\n",
    "    def __init__(self):\n",
    "        pass\n",
    "\n",
    "    def __str__(self):\n",
    "        pass"
   ]
  },
  {
   "cell_type": "code",
   "execution_count": 10,
   "id": "73d1d282",
   "metadata": {},
   "outputs": [],
   "source": [
    "class Unidad:\n",
    "\n",
    "    def __init__(self):\n",
    "        pass\n",
    "\n",
    "    def __str__(self):\n",
    "        pass"
   ]
  },
  {
   "cell_type": "code",
   "execution_count": 11,
   "id": "3a76e9a6",
   "metadata": {},
   "outputs": [],
   "source": [
    "class Or(Unidad):\n",
    "\n",
    "    def __init__(self):\n",
    "        pass\n",
    "\n",
    "    def __str__(self):\n",
    "        pass"
   ]
  },
  {
   "cell_type": "code",
   "execution_count": 12,
   "id": "03dae778",
   "metadata": {},
   "outputs": [],
   "source": [
    "class Icu(Unidad):\n",
    "\n",
    "    def __init__(self):\n",
    "        pass\n",
    "\n",
    "    def __str__(self):\n",
    "        pass"
   ]
  },
  {
   "cell_type": "code",
   "execution_count": 13,
   "id": "276ef544",
   "metadata": {},
   "outputs": [],
   "source": [
    "class SduWard(Unidad):\n",
    "\n",
    "    def __init__(self):\n",
    "        pass\n",
    "\n",
    "    def __str__(self):\n",
    "        pass"
   ]
  },
  {
   "cell_type": "code",
   "execution_count": 14,
   "id": "82dd8aa0",
   "metadata": {},
   "outputs": [],
   "source": [
    "class GA(Unidad):\n",
    "\n",
    "    def __init__(self):\n",
    "        pass\n",
    "\n",
    "    def __str__(self):\n",
    "        pass"
   ]
  },
  {
   "cell_type": "code",
   "execution_count": 15,
   "id": "40ab4505",
   "metadata": {},
   "outputs": [],
   "source": [
    "class ED(Unidad):\n",
    "\n",
    "    def __init__(self):\n",
    "        pass\n",
    "\n",
    "    def __str__(self):\n",
    "        pass"
   ]
  }
 ],
 "metadata": {
  "kernelspec": {
   "display_name": "Python 3",
   "language": "python",
   "name": "python3"
  },
  "language_info": {
   "codemirror_mode": {
    "name": "ipython",
    "version": 3
   },
   "file_extension": ".py",
   "mimetype": "text/x-python",
   "name": "python",
   "nbconvert_exporter": "python",
   "pygments_lexer": "ipython3",
   "version": "3.10.11"
  }
 },
 "nbformat": 4,
 "nbformat_minor": 5
}
