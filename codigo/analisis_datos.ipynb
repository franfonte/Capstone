{
 "cells": [
  {
   "cell_type": "code",
   "execution_count": 2,
   "id": "0fae9b55",
   "metadata": {},
   "outputs": [],
   "source": [
    "# Librerias necesarias\n",
    "import pandas as pd\n",
    "import numpy as np\n",
    "from scipy import stats\n",
    "import matplotlib.pyplot as plt"
   ]
  },
  {
   "cell_type": "code",
   "execution_count": 3,
   "id": "9896fa7a",
   "metadata": {},
   "outputs": [],
   "source": [
    "# Cargar los datos\n",
    "df = pd.read_excel(\"../data/0 TimeLog (original, no modificar).xlsx\")"
   ]
  },
  {
   "cell_type": "code",
   "execution_count": 4,
   "id": "a86c39f8",
   "metadata": {},
   "outputs": [],
   "source": [
    "# Copio para no modificar el original\n",
    "tl = df.copy()"
   ]
  },
  {
   "cell_type": "code",
   "execution_count": 5,
   "id": "0c63dabd",
   "metadata": {},
   "outputs": [],
   "source": [
    "# Agrego LOS a cada fila y reordeno\n",
    "tl[\"LOS\"] = (tl[\"TF\"] - tl[\"TI\"])\n",
    "tl = tl[[\"ID\", \"MS_GRD\", \"UBICACIÓN\", \"TI\", \"TF\", \"LOS\", \"HOSPITAL\", \"UNIDAD\"]]\n",
    "\n",
    "# Lista para guardar filas nuevas\n",
    "new_rows = []\n",
    "\n",
    "# Recorrer filas consecutivas\n",
    "for i in range(len(tl) - 1):\n",
    "    row_current = tl.iloc[i]\n",
    "    row_next = tl.iloc[i + 1]\n",
    "\n",
    "    # Verificar condiciones\n",
    "    same_id = row_current['ID'] == row_next['ID']\n",
    "    same_ms = row_current['MS_GRD'] == row_next['MS_GRD']\n",
    "    time_gap = row_current['TF'] < row_next['TI']\n",
    "    same_hospital = row_current['HOSPITAL'] == row_next['HOSPITAL']\n",
    "\n",
    "    if same_id and same_ms and time_gap:\n",
    "        # Crear fila intermedia\n",
    "        new_row = {\n",
    "            'ID': row_current['ID'],\n",
    "            'MS_GRD': row_current['MS_GRD'],\n",
    "            'UBICACIÓN': f\"{row_current['UBICACIÓN']} -> {row_next['UBICACIÓN']}\",\n",
    "            'TI': row_current['TF'],\n",
    "            'TF': row_next['TI'],\n",
    "            'LOS': row_next['TI'] - row_current['TF'],\n",
    "            'HOSPITAL': row_current['HOSPITAL'],\n",
    "            'UNIDAD': row_current['UNIDAD']\n",
    "        }\n",
    "        new_rows.append((i + 1, new_row))  # guardar con índice de inserción\n",
    "\n",
    "# Lista para guardar todas las filas nuevas (dicts)\n",
    "new_rows_list = [fila[1] for fila in new_rows]\n",
    "\n",
    "# Convertir todo a un DataFrame una sola vez\n",
    "new_rows_df = pd.DataFrame(new_rows_list)\n",
    "\n",
    "# Concatenar en una sola pasada\n",
    "tl = pd.concat([tl, new_rows_df], ignore_index=True)\n",
    "\n",
    "# Reordenar filas para meter filas entremedio\n",
    "tl = tl.sort_values([\"ID\", \"TI\"])\n",
    "\n",
    "# Resetear index pra quie se vea ordenado\n",
    "tl = tl.reset_index(drop=True)"
   ]
  },
  {
   "cell_type": "code",
   "execution_count": 6,
   "id": "b505ab4c",
   "metadata": {},
   "outputs": [
    {
     "data": {
      "text/plain": [
       "['Hospital_1_ED',\n",
       " 'Hospital_1_GA',\n",
       " 'Hospital_1_ICU',\n",
       " 'Hospital_1_ICU -> Hospital_1_OR',\n",
       " 'Hospital_1_ICU -> Hospital_1_SDU_WARD',\n",
       " 'Hospital_1_OR',\n",
       " 'Hospital_1_OR -> Hospital_1_ICU',\n",
       " 'Hospital_1_OR -> Hospital_1_SDU_WARD',\n",
       " 'Hospital_1_SDU_WARD',\n",
       " 'Hospital_1_SDU_WARD -> Hospital_1_ICU',\n",
       " 'Hospital_1_SDU_WARD -> Hospital_1_OR',\n",
       " 'Hospital_2_ED',\n",
       " 'Hospital_2_GA',\n",
       " 'Hospital_2_ICU',\n",
       " 'Hospital_2_ICU -> Hospital_2_OR',\n",
       " 'Hospital_2_ICU -> Hospital_2_SDU_WARD',\n",
       " 'Hospital_2_OR',\n",
       " 'Hospital_2_OR -> Hospital_2_ICU',\n",
       " 'Hospital_2_OR -> Hospital_2_SDU_WARD',\n",
       " 'Hospital_2_SDU_WARD',\n",
       " 'Hospital_2_SDU_WARD -> Hospital_2_ICU',\n",
       " 'Hospital_2_SDU_WARD -> Hospital_2_OR',\n",
       " 'Hospital_3_ED',\n",
       " 'Hospital_3_GA',\n",
       " 'Hospital_3_ICU',\n",
       " 'Hospital_3_ICU -> Hospital_3_OR',\n",
       " 'Hospital_3_ICU -> Hospital_3_SDU_WARD',\n",
       " 'Hospital_3_OR',\n",
       " 'Hospital_3_OR -> Hospital_3_ICU',\n",
       " 'Hospital_3_OR -> Hospital_3_SDU_WARD',\n",
       " 'Hospital_3_SDU_WARD',\n",
       " 'Hospital_3_SDU_WARD -> Hospital_3_ICU',\n",
       " 'Hospital_3_SDU_WARD -> Hospital_3_OR',\n",
       " 'PS_PS',\n",
       " 'WL_WL']"
      ]
     },
     "execution_count": 6,
     "metadata": {},
     "output_type": "execute_result"
    }
   ],
   "source": [
    "# Ubicaciones\n",
    "ubicaciones = list(tl[\"UBICACIÓN\"].unique())\n",
    "ubicaciones.sort()\n",
    "ubicaciones"
   ]
  },
  {
   "cell_type": "code",
   "execution_count": 7,
   "id": "9217c6f8",
   "metadata": {},
   "outputs": [
    {
     "data": {
      "text/html": [
       "<div>\n",
       "<style scoped>\n",
       "    .dataframe tbody tr th:only-of-type {\n",
       "        vertical-align: middle;\n",
       "    }\n",
       "\n",
       "    .dataframe tbody tr th {\n",
       "        vertical-align: top;\n",
       "    }\n",
       "\n",
       "    .dataframe thead th {\n",
       "        text-align: right;\n",
       "    }\n",
       "</style>\n",
       "<table border=\"1\" class=\"dataframe\">\n",
       "  <thead>\n",
       "    <tr style=\"text-align: right;\">\n",
       "      <th></th>\n",
       "      <th>ID</th>\n",
       "      <th>MS_GRD</th>\n",
       "      <th>UBICACIÓN</th>\n",
       "      <th>TI</th>\n",
       "      <th>TF</th>\n",
       "      <th>LOS</th>\n",
       "      <th>HOSPITAL</th>\n",
       "      <th>UNIDAD</th>\n",
       "    </tr>\n",
       "  </thead>\n",
       "  <tbody>\n",
       "    <tr>\n",
       "      <th>0</th>\n",
       "      <td>1</td>\n",
       "      <td>5</td>\n",
       "      <td>WL_WL</td>\n",
       "      <td>12</td>\n",
       "      <td>384</td>\n",
       "      <td>372</td>\n",
       "      <td>WL</td>\n",
       "      <td>WL</td>\n",
       "    </tr>\n",
       "    <tr>\n",
       "      <th>1</th>\n",
       "      <td>1</td>\n",
       "      <td>5</td>\n",
       "      <td>Hospital_1_GA</td>\n",
       "      <td>384</td>\n",
       "      <td>468</td>\n",
       "      <td>84</td>\n",
       "      <td>Hospital_1</td>\n",
       "      <td>GA</td>\n",
       "    </tr>\n",
       "    <tr>\n",
       "      <th>2</th>\n",
       "      <td>1</td>\n",
       "      <td>5</td>\n",
       "      <td>Hospital_1_ICU</td>\n",
       "      <td>468</td>\n",
       "      <td>552</td>\n",
       "      <td>84</td>\n",
       "      <td>Hospital_1</td>\n",
       "      <td>ICU</td>\n",
       "    </tr>\n",
       "    <tr>\n",
       "      <th>3</th>\n",
       "      <td>1</td>\n",
       "      <td>5</td>\n",
       "      <td>Hospital_1_ICU -&gt; Hospital_1_SDU_WARD</td>\n",
       "      <td>552</td>\n",
       "      <td>576</td>\n",
       "      <td>24</td>\n",
       "      <td>Hospital_1</td>\n",
       "      <td>ICU</td>\n",
       "    </tr>\n",
       "    <tr>\n",
       "      <th>4</th>\n",
       "      <td>1</td>\n",
       "      <td>5</td>\n",
       "      <td>Hospital_1_SDU_WARD</td>\n",
       "      <td>576</td>\n",
       "      <td>768</td>\n",
       "      <td>192</td>\n",
       "      <td>Hospital_1</td>\n",
       "      <td>SDU_WARD</td>\n",
       "    </tr>\n",
       "  </tbody>\n",
       "</table>\n",
       "</div>"
      ],
      "text/plain": [
       "   ID  MS_GRD                              UBICACIÓN   TI   TF  LOS  \\\n",
       "0   1       5                                  WL_WL   12  384  372   \n",
       "1   1       5                          Hospital_1_GA  384  468   84   \n",
       "2   1       5                         Hospital_1_ICU  468  552   84   \n",
       "3   1       5  Hospital_1_ICU -> Hospital_1_SDU_WARD  552  576   24   \n",
       "4   1       5                    Hospital_1_SDU_WARD  576  768  192   \n",
       "\n",
       "     HOSPITAL    UNIDAD  \n",
       "0          WL        WL  \n",
       "1  Hospital_1        GA  \n",
       "2  Hospital_1       ICU  \n",
       "3  Hospital_1       ICU  \n",
       "4  Hospital_1  SDU_WARD  "
      ]
     },
     "execution_count": 7,
     "metadata": {},
     "output_type": "execute_result"
    }
   ],
   "source": [
    "tl.head(5)"
   ]
  },
  {
   "cell_type": "code",
   "execution_count": 8,
   "id": "46956dbc",
   "metadata": {},
   "outputs": [],
   "source": [
    "# tl.groupby('ID')['LOS'].sum().reset_index().describe()\n",
    "#tl.head()\n",
    "# tl.groupby('UBICACIÓN')['LOS'].mean().reset_index()\n",
    "# tl.groupby('UBICACIÓN')['LOS'].mean().reset_index()[\"LOS\"].tolist()"
   ]
  },
  {
   "cell_type": "code",
   "execution_count": 9,
   "id": "7cb23a7c",
   "metadata": {},
   "outputs": [],
   "source": [
    "# Proporción de GRDs entre todos los casos (P_j)\n",
    "variable = tl.groupby('ID')['MS_GRD'].max().reset_index()[\"MS_GRD\"].value_counts(normalize=True).sort_index().reset_index()\n",
    "P_j = {}\n",
    "for index, row in variable.iterrows():\n",
    "    P_j[int(row['MS_GRD'])] = row['proportion']"
   ]
  },
  {
   "cell_type": "code",
   "execution_count": 10,
   "id": "b965cf46",
   "metadata": {},
   "outputs": [
    {
     "data": {
      "text/plain": [
       "{1: 367.77918090714246,\n",
       " 2: 441.38515023590764,\n",
       " 3: 183.812156942468,\n",
       " 4: 319.45811965811964,\n",
       " 5: 231.18476668759155,\n",
       " 6: 158.58976533785693,\n",
       " 7: 354.1263784351479,\n",
       " 8: 308.61802187887673}"
      ]
     },
     "execution_count": 10,
     "metadata": {},
     "output_type": "execute_result"
    }
   ],
   "source": [
    "# LOS estando ya hospitalizado promedio por GRD (A_j)\n",
    "# Solo considero cuando estan hospitalizados (se podria agregar GA facilmente)\n",
    "#v1 = tl[tl[\"UNIDAD\"].isin([\"ICU\", \"OR\", \"SDU_WARD\", \"GA\"])]\n",
    "v1 = tl[tl[\"UNIDAD\"].isin([\"ICU\", \"OR\", \"SDU_WARD\"])]\n",
    "\n",
    "v2 = v1.groupby('ID').agg({\n",
    "    'LOS': 'sum',\n",
    "    'MS_GRD': 'min'\n",
    "}).reset_index().groupby(\"MS_GRD\")[\"LOS\"].mean().reset_index()\n",
    "\n",
    "A_j = {}\n",
    "for index, row in v2.iterrows():\n",
    "    A_j[int(row['MS_GRD'])] = row['LOS']\n",
    "\n",
    "A_j"
   ]
  },
  {
   "cell_type": "code",
   "execution_count": 11,
   "id": "0c0bdfcb",
   "metadata": {},
   "outputs": [],
   "source": [
    "# LOS promedio por hospital_i y GRD_j (a_i_j)\n",
    "a_i_j = {}\n",
    "for numero in range(1,4):\n",
    "    v1 = tl[tl[\"HOSPITAL\"] == f\"Hospital_{numero}\"]\n",
    "    v2 = v1[v1[\"UNIDAD\"].isin([\"ICU\", \"OR\", \"SDU_WARD\"])]\n",
    "    v3 = v2.groupby('ID').agg({\n",
    "        'LOS': 'sum',\n",
    "        'MS_GRD': 'min'\n",
    "    }).reset_index().groupby(\"MS_GRD\")[\"LOS\"].mean().reset_index()\n",
    "    for index, row in v3.iterrows():\n",
    "        a_i_j[(numero,int(row['MS_GRD']))] = row['LOS']"
   ]
  },
  {
   "cell_type": "code",
   "execution_count": null,
   "id": "82b901ab",
   "metadata": {},
   "outputs": [
    {
     "data": {
      "text/plain": [
       "0.17535672861651336"
      ]
     },
     "execution_count": 44,
     "metadata": {},
     "output_type": "execute_result"
    }
   ],
   "source": [
    "# Proporción de GRDs en cada hospital (p_i_j)\n",
    "p_i_j = {}\n",
    "\n",
    "for numero in range(1,4):\n",
    "    # Filtro por hospital\n",
    "    v1 = tl[tl[\"HOSPITAL\"] == f\"Hospital_{numero}\"]\n",
    "    # Filtro que este en alguna de esas unidades, cuando ya estan aceptados por el hospital\n",
    "    v2 = v1[v1[\"UNIDAD\"].isin([\"ICU\", \"OR\", \"SDU_WARD\"])]\n",
    "    v3 = v2.groupby('ID')['MS_GRD'].max().reset_index()[\"MS_GRD\"].value_counts(normalize=True).sort_index().reset_index()\n",
    "    for index, row in v3.iterrows():\n",
    "            p_i_j[(numero,int(row['MS_GRD']))] = row['proportion']"
   ]
  },
  {
   "cell_type": "code",
   "execution_count": null,
   "id": "bb9dcf99",
   "metadata": {},
   "outputs": [
    {
     "data": {
      "text/plain": [
       "307.748435745227"
      ]
     },
     "execution_count": 52,
     "metadata": {},
     "output_type": "execute_result"
    }
   ],
   "source": []
  },
  {
   "cell_type": "code",
   "execution_count": 53,
   "id": "8e8bac00",
   "metadata": {},
   "outputs": [
    {
     "name": "stdout",
     "output_type": "stream",
     "text": [
      "{1: 309.65457340921967, 2: 296.7760730640863, 3: 307.748435745227}\n",
      "{1: 293.038531534336, 2: 290.42178975479305, 3: 289.8218741116188}\n",
      "{1: 307.7236136122812, 2: 296.84952287794425, 3: 309.58670420333914}\n"
     ]
    }
   ],
   "source": [
    "mean_los_i = {}\n",
    "for numero in range(1,4):\n",
    "    v1 = tl[tl[\"HOSPITAL\"] == f\"Hospital_{numero}\"]\n",
    "    v2 = v1[v1[\"UNIDAD\"].isin([\"ICU\", \"OR\", \"SDU_WARD\"])]\n",
    "    v3 = v2.groupby('ID').agg({\n",
    "        'LOS': 'sum',\n",
    "        'MS_GRD': 'min'\n",
    "    }).reset_index()\n",
    "    mean_los_i[numero] = v3[\"LOS\"].mean()\n",
    "print(mean_los_i)\n",
    "\n",
    "# Case mix adjusted LOS\n",
    "cmal_i = {}\n",
    "for i in range(1,4):\n",
    "    suma = 0\n",
    "    for j in range(1, 9):\n",
    "        suma += a_i_j[(i, j)] * P_j[j]\n",
    "    cmal_i[i] = suma\n",
    "print(cmal_i)\n",
    "\n",
    "# LOS weighted case mix\n",
    "lwcm_i = {}\n",
    "for i in range(1,4):\n",
    "    suma = 0\n",
    "    for j in range(1, 9):\n",
    "        suma += A_j[j] * p_i_j[(i, j)]\n",
    "    lwcm_i[i] = suma\n",
    "print(lwcm_i)\n",
    "\n",
    "        "
   ]
  }
 ],
 "metadata": {
  "kernelspec": {
   "display_name": "Python 3",
   "language": "python",
   "name": "python3"
  },
  "language_info": {
   "codemirror_mode": {
    "name": "ipython",
    "version": 3
   },
   "file_extension": ".py",
   "mimetype": "text/x-python",
   "name": "python",
   "nbconvert_exporter": "python",
   "pygments_lexer": "ipython3",
   "version": "3.10.11"
  }
 },
 "nbformat": 4,
 "nbformat_minor": 5
}
