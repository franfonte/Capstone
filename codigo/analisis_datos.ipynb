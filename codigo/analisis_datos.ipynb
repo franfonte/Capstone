{
 "cells": [
  {
   "cell_type": "code",
   "execution_count": 179,
   "id": "0fae9b55",
   "metadata": {},
   "outputs": [],
   "source": [
    "# Librerias necesarias\n",
    "import pandas as pd\n",
    "import numpy as np\n",
    "from scipy import stats\n",
    "import matplotlib.pyplot as plt"
   ]
  },
  {
   "cell_type": "code",
   "execution_count": 180,
   "id": "9896fa7a",
   "metadata": {},
   "outputs": [],
   "source": [
    "# Cargar los datos\n",
    "df = pd.read_excel(\"../data/0 TimeLog (original, no modificar).xlsx\")"
   ]
  },
  {
   "cell_type": "code",
   "execution_count": 181,
   "id": "a86c39f8",
   "metadata": {},
   "outputs": [],
   "source": [
    "# Copio para no modificar el original\n",
    "tl = df.copy()"
   ]
  },
  {
   "cell_type": "code",
   "execution_count": 182,
   "id": "0c63dabd",
   "metadata": {},
   "outputs": [],
   "source": [
    "# Agrego LOS a cada fila y reordeno\n",
    "tl[\"LOS\"] = (tl[\"TF\"] - tl[\"TI\"])\n",
    "tl = tl[[\"ID\", \"MS_GRD\", \"UBICACIÓN\", \"TI\", \"TF\", \"LOS\", \"HOSPITAL\", \"UNIDAD\"]]\n",
    "\n",
    "# Lista para guardar filas nuevas\n",
    "new_rows = []\n",
    "\n",
    "# Recorrer filas consecutivas\n",
    "for i in range(len(tl) - 1):\n",
    "    row_current = tl.iloc[i]\n",
    "    row_next = tl.iloc[i + 1]\n",
    "\n",
    "    # Verificar condiciones\n",
    "    same_id = row_current['ID'] == row_next['ID']\n",
    "    same_ms = row_current['MS_GRD'] == row_next['MS_GRD']\n",
    "    time_gap = row_current['TF'] < row_next['TI']\n",
    "    same_hospital = row_current['HOSPITAL'] == row_next['HOSPITAL']\n",
    "\n",
    "    if same_id and same_ms and time_gap:\n",
    "        # Crear fila intermedia\n",
    "        new_row = {\n",
    "            'ID': row_current['ID'],\n",
    "            'MS_GRD': row_current['MS_GRD'],\n",
    "            'UBICACIÓN': f\"{row_current['UBICACIÓN']} -> {row_next['UBICACIÓN']}\",\n",
    "            'TI': row_current['TF'],\n",
    "            'TF': row_next['TI'],\n",
    "            'LOS': row_next['TI'] - row_current['TF'],\n",
    "            'HOSPITAL': row_current['HOSPITAL'],\n",
    "            'UNIDAD': row_current['UNIDAD']\n",
    "        }\n",
    "        new_rows.append((i + 1, new_row))  # guardar con índice de inserción\n",
    "\n",
    "# Lista para guardar todas las filas nuevas (dicts)\n",
    "new_rows_list = [fila[1] for fila in new_rows]\n",
    "\n",
    "# Convertir todo a un DataFrame una sola vez\n",
    "new_rows_df = pd.DataFrame(new_rows_list)\n",
    "\n",
    "# Concatenar en una sola pasada\n",
    "tl = pd.concat([tl, new_rows_df], ignore_index=True)\n",
    "\n",
    "# Reordenar filas para meter filas entremedio\n",
    "tl = tl.sort_values([\"ID\", \"TI\"])\n",
    "\n",
    "# Resetear index pra quie se vea ordenado\n",
    "tl = tl.reset_index(drop=True)"
   ]
  },
  {
   "cell_type": "code",
   "execution_count": 183,
   "id": "b505ab4c",
   "metadata": {},
   "outputs": [
    {
     "data": {
      "text/plain": [
       "['Hospital_1_ED',\n",
       " 'Hospital_1_GA',\n",
       " 'Hospital_1_ICU',\n",
       " 'Hospital_1_ICU -> Hospital_1_OR',\n",
       " 'Hospital_1_ICU -> Hospital_1_SDU_WARD',\n",
       " 'Hospital_1_OR',\n",
       " 'Hospital_1_OR -> Hospital_1_ICU',\n",
       " 'Hospital_1_OR -> Hospital_1_SDU_WARD',\n",
       " 'Hospital_1_SDU_WARD',\n",
       " 'Hospital_1_SDU_WARD -> Hospital_1_ICU',\n",
       " 'Hospital_1_SDU_WARD -> Hospital_1_OR',\n",
       " 'Hospital_2_ED',\n",
       " 'Hospital_2_GA',\n",
       " 'Hospital_2_ICU',\n",
       " 'Hospital_2_ICU -> Hospital_2_OR',\n",
       " 'Hospital_2_ICU -> Hospital_2_SDU_WARD',\n",
       " 'Hospital_2_OR',\n",
       " 'Hospital_2_OR -> Hospital_2_ICU',\n",
       " 'Hospital_2_OR -> Hospital_2_SDU_WARD',\n",
       " 'Hospital_2_SDU_WARD',\n",
       " 'Hospital_2_SDU_WARD -> Hospital_2_ICU',\n",
       " 'Hospital_2_SDU_WARD -> Hospital_2_OR',\n",
       " 'Hospital_3_ED',\n",
       " 'Hospital_3_GA',\n",
       " 'Hospital_3_ICU',\n",
       " 'Hospital_3_ICU -> Hospital_3_OR',\n",
       " 'Hospital_3_ICU -> Hospital_3_SDU_WARD',\n",
       " 'Hospital_3_OR',\n",
       " 'Hospital_3_OR -> Hospital_3_ICU',\n",
       " 'Hospital_3_OR -> Hospital_3_SDU_WARD',\n",
       " 'Hospital_3_SDU_WARD',\n",
       " 'Hospital_3_SDU_WARD -> Hospital_3_ICU',\n",
       " 'Hospital_3_SDU_WARD -> Hospital_3_OR',\n",
       " 'PS_PS',\n",
       " 'WL_WL']"
      ]
     },
     "execution_count": 183,
     "metadata": {},
     "output_type": "execute_result"
    }
   ],
   "source": [
    "# Ubicaciones\n",
    "ubicaciones = list(tl[\"UBICACIÓN\"].unique())\n",
    "ubicaciones.sort()\n",
    "ubicaciones"
   ]
  },
  {
   "cell_type": "code",
   "execution_count": 184,
   "id": "9217c6f8",
   "metadata": {},
   "outputs": [
    {
     "data": {
      "text/html": [
       "<div>\n",
       "<style scoped>\n",
       "    .dataframe tbody tr th:only-of-type {\n",
       "        vertical-align: middle;\n",
       "    }\n",
       "\n",
       "    .dataframe tbody tr th {\n",
       "        vertical-align: top;\n",
       "    }\n",
       "\n",
       "    .dataframe thead th {\n",
       "        text-align: right;\n",
       "    }\n",
       "</style>\n",
       "<table border=\"1\" class=\"dataframe\">\n",
       "  <thead>\n",
       "    <tr style=\"text-align: right;\">\n",
       "      <th></th>\n",
       "      <th>ID</th>\n",
       "      <th>MS_GRD</th>\n",
       "      <th>UBICACIÓN</th>\n",
       "      <th>TI</th>\n",
       "      <th>TF</th>\n",
       "      <th>LOS</th>\n",
       "      <th>HOSPITAL</th>\n",
       "      <th>UNIDAD</th>\n",
       "    </tr>\n",
       "  </thead>\n",
       "  <tbody>\n",
       "    <tr>\n",
       "      <th>0</th>\n",
       "      <td>1</td>\n",
       "      <td>5</td>\n",
       "      <td>WL_WL</td>\n",
       "      <td>12</td>\n",
       "      <td>384</td>\n",
       "      <td>372</td>\n",
       "      <td>WL</td>\n",
       "      <td>WL</td>\n",
       "    </tr>\n",
       "    <tr>\n",
       "      <th>1</th>\n",
       "      <td>1</td>\n",
       "      <td>5</td>\n",
       "      <td>Hospital_1_GA</td>\n",
       "      <td>384</td>\n",
       "      <td>468</td>\n",
       "      <td>84</td>\n",
       "      <td>Hospital_1</td>\n",
       "      <td>GA</td>\n",
       "    </tr>\n",
       "    <tr>\n",
       "      <th>2</th>\n",
       "      <td>1</td>\n",
       "      <td>5</td>\n",
       "      <td>Hospital_1_ICU</td>\n",
       "      <td>468</td>\n",
       "      <td>552</td>\n",
       "      <td>84</td>\n",
       "      <td>Hospital_1</td>\n",
       "      <td>ICU</td>\n",
       "    </tr>\n",
       "    <tr>\n",
       "      <th>3</th>\n",
       "      <td>1</td>\n",
       "      <td>5</td>\n",
       "      <td>Hospital_1_ICU -&gt; Hospital_1_SDU_WARD</td>\n",
       "      <td>552</td>\n",
       "      <td>576</td>\n",
       "      <td>24</td>\n",
       "      <td>Hospital_1</td>\n",
       "      <td>ICU</td>\n",
       "    </tr>\n",
       "    <tr>\n",
       "      <th>4</th>\n",
       "      <td>1</td>\n",
       "      <td>5</td>\n",
       "      <td>Hospital_1_SDU_WARD</td>\n",
       "      <td>576</td>\n",
       "      <td>768</td>\n",
       "      <td>192</td>\n",
       "      <td>Hospital_1</td>\n",
       "      <td>SDU_WARD</td>\n",
       "    </tr>\n",
       "  </tbody>\n",
       "</table>\n",
       "</div>"
      ],
      "text/plain": [
       "   ID  MS_GRD                              UBICACIÓN   TI   TF  LOS  \\\n",
       "0   1       5                                  WL_WL   12  384  372   \n",
       "1   1       5                          Hospital_1_GA  384  468   84   \n",
       "2   1       5                         Hospital_1_ICU  468  552   84   \n",
       "3   1       5  Hospital_1_ICU -> Hospital_1_SDU_WARD  552  576   24   \n",
       "4   1       5                    Hospital_1_SDU_WARD  576  768  192   \n",
       "\n",
       "     HOSPITAL    UNIDAD  \n",
       "0          WL        WL  \n",
       "1  Hospital_1        GA  \n",
       "2  Hospital_1       ICU  \n",
       "3  Hospital_1       ICU  \n",
       "4  Hospital_1  SDU_WARD  "
      ]
     },
     "execution_count": 184,
     "metadata": {},
     "output_type": "execute_result"
    }
   ],
   "source": [
    "tl.head(5)"
   ]
  },
  {
   "cell_type": "code",
   "execution_count": 185,
   "id": "e1bd6fcc",
   "metadata": {},
   "outputs": [
    {
     "data": {
      "text/html": [
       "<div>\n",
       "<style scoped>\n",
       "    .dataframe tbody tr th:only-of-type {\n",
       "        vertical-align: middle;\n",
       "    }\n",
       "\n",
       "    .dataframe tbody tr th {\n",
       "        vertical-align: top;\n",
       "    }\n",
       "\n",
       "    .dataframe thead th {\n",
       "        text-align: right;\n",
       "    }\n",
       "</style>\n",
       "<table border=\"1\" class=\"dataframe\">\n",
       "  <thead>\n",
       "    <tr style=\"text-align: right;\">\n",
       "      <th></th>\n",
       "      <th>HOSPITAL</th>\n",
       "      <th>AVERAGE LOS</th>\n",
       "      <th>CASE MIX ADJUSTED LOS</th>\n",
       "      <th>LOS WEIGHTED CASE MIX</th>\n",
       "      <th>AVERAGE LOS INDEX</th>\n",
       "      <th>LOS INDEX</th>\n",
       "      <th>CASE MIX INDEX</th>\n",
       "      <th>AVERAGE LOS DIFFER</th>\n",
       "      <th>DIFFER DUE TO LOS</th>\n",
       "      <th>DIFFER DUE TO CASE MIX</th>\n",
       "      <th>INTERACT DIFFER</th>\n",
       "    </tr>\n",
       "  </thead>\n",
       "  <tbody>\n",
       "    <tr>\n",
       "      <th>0</th>\n",
       "      <td>1</td>\n",
       "      <td>309.654573</td>\n",
       "      <td>293.038532</td>\n",
       "      <td>307.723614</td>\n",
       "      <td>1.016514</td>\n",
       "      <td>0.961968</td>\n",
       "      <td>1.010175</td>\n",
       "      <td>5.030433</td>\n",
       "      <td>-11.585609</td>\n",
       "      <td>3.099473</td>\n",
       "      <td>13.516569</td>\n",
       "    </tr>\n",
       "    <tr>\n",
       "      <th>1</th>\n",
       "      <td>2</td>\n",
       "      <td>296.776073</td>\n",
       "      <td>290.421790</td>\n",
       "      <td>296.849523</td>\n",
       "      <td>0.974237</td>\n",
       "      <td>0.953377</td>\n",
       "      <td>0.974478</td>\n",
       "      <td>-7.848067</td>\n",
       "      <td>-14.202351</td>\n",
       "      <td>-7.774617</td>\n",
       "      <td>14.128901</td>\n",
       "    </tr>\n",
       "    <tr>\n",
       "      <th>2</th>\n",
       "      <td>3</td>\n",
       "      <td>307.748436</td>\n",
       "      <td>289.821874</td>\n",
       "      <td>309.586704</td>\n",
       "      <td>1.010256</td>\n",
       "      <td>0.951408</td>\n",
       "      <td>1.016291</td>\n",
       "      <td>3.124295</td>\n",
       "      <td>-14.802266</td>\n",
       "      <td>4.962564</td>\n",
       "      <td>12.963998</td>\n",
       "    </tr>\n",
       "  </tbody>\n",
       "</table>\n",
       "</div>"
      ],
      "text/plain": [
       "   HOSPITAL  AVERAGE LOS  CASE MIX ADJUSTED LOS  LOS WEIGHTED CASE MIX  \\\n",
       "0         1   309.654573             293.038532             307.723614   \n",
       "1         2   296.776073             290.421790             296.849523   \n",
       "2         3   307.748436             289.821874             309.586704   \n",
       "\n",
       "   AVERAGE LOS INDEX  LOS INDEX  CASE MIX INDEX  AVERAGE LOS DIFFER  \\\n",
       "0           1.016514   0.961968        1.010175            5.030433   \n",
       "1           0.974237   0.953377        0.974478           -7.848067   \n",
       "2           1.010256   0.951408        1.016291            3.124295   \n",
       "\n",
       "   DIFFER DUE TO LOS  DIFFER DUE TO CASE MIX  INTERACT DIFFER  \n",
       "0         -11.585609                3.099473        13.516569  \n",
       "1         -14.202351               -7.774617        14.128901  \n",
       "2         -14.802266                4.962564        12.963998  "
      ]
     },
     "metadata": {},
     "output_type": "display_data"
    }
   ],
   "source": [
    "# Función con que unidades a considerar\n",
    "\n",
    "def los_case_mix_report(tl: pd.DataFrame, unidades: list = [\"ICU\", \"OR\", \"SDU_WARD\"]):\n",
    "    # Proporción de GRDs entre todos los casos (P_j)\n",
    "    variable = tl.groupby('ID')['MS_GRD'].max().reset_index()[\"MS_GRD\"].value_counts(normalize=True).sort_index().reset_index()\n",
    "    P_j = {}\n",
    "    for index, row in variable.iterrows():\n",
    "        P_j[int(row['MS_GRD'])] = row['proportion']\n",
    "\n",
    "    # LOS estando ya hospitalizado promedio por GRD (A_j)\n",
    "    v1 = tl[tl[\"UNIDAD\"].isin(unidades)]\n",
    "    v2 = v1.groupby('ID').agg({\n",
    "        'LOS': 'sum',\n",
    "        'MS_GRD': 'min'\n",
    "    }).reset_index().groupby(\"MS_GRD\")[\"LOS\"].mean().reset_index()\n",
    "    A_j = {}\n",
    "    for index, row in v2.iterrows():\n",
    "        A_j[int(row['MS_GRD'])] = row['LOS']\n",
    "\n",
    "    # LOS promedio por hospital_i y GRD_j (a_i_j)\n",
    "    a_i_j = {}\n",
    "    for numero in range(1,4):\n",
    "        v1 = tl[tl[\"HOSPITAL\"] == f\"Hospital_{numero}\"]\n",
    "        v2 = v1[v1[\"UNIDAD\"].isin(unidades)]\n",
    "        v3 = v2.groupby('ID').agg({\n",
    "            'LOS': 'sum',\n",
    "            'MS_GRD': 'min'\n",
    "        }).reset_index().groupby(\"MS_GRD\")[\"LOS\"].mean().reset_index()\n",
    "        for index, row in v3.iterrows():\n",
    "            a_i_j[(numero,int(row['MS_GRD']))] = row['LOS']\n",
    "\n",
    "    # Proporción de GRDs en cada hospital (p_i_j)\n",
    "    p_i_j = {}\n",
    "\n",
    "    for numero in range(1,4):\n",
    "        # Filtro por hospital\n",
    "        v1 = tl[tl[\"HOSPITAL\"] == f\"Hospital_{numero}\"]\n",
    "        # Filtro que este en alguna de esas unidades, cuando ya estan aceptados por el hospital\n",
    "        v2 = v1[v1[\"UNIDAD\"].isin(unidades)]\n",
    "        v3 = v2.groupby('ID')['MS_GRD'].max().reset_index()[\"MS_GRD\"].value_counts(normalize=True).sort_index().reset_index()\n",
    "        for index, row in v3.iterrows():\n",
    "                p_i_j[(numero,int(row['MS_GRD']))] = row['proportion']\n",
    "\n",
    "    # LOS promedio total\n",
    "    v1 = tl[tl[\"UNIDAD\"].isin(unidades)]\n",
    "    v2 = v1.groupby('ID').agg({'LOS': 'sum'}).reset_index()\n",
    "    mean_los = v2[\"LOS\"].mean()\n",
    "\n",
    "    # Average LOS by hospital\n",
    "    mean_los_i = {}\n",
    "    for numero in range(1,4):\n",
    "        v1 = tl[tl[\"HOSPITAL\"] == f\"Hospital_{numero}\"]\n",
    "        v2 = v1[v1[\"UNIDAD\"].isin(unidades)]\n",
    "        v3 = v2.groupby('ID').agg({\n",
    "            'LOS': 'sum',\n",
    "            'MS_GRD': 'min'\n",
    "        }).reset_index()\n",
    "        mean_los_i[numero] = v3[\"LOS\"].mean()\n",
    "\n",
    "    # Case mix adjusted LOS\n",
    "    cmal_i = {}\n",
    "    for i in range(1,4):\n",
    "        suma = 0\n",
    "        for j in range(1, 9):\n",
    "            suma += a_i_j[(i, j)] * P_j[j]\n",
    "        cmal_i[i] = suma\n",
    "\n",
    "    # LOS weighted case mix\n",
    "    lwcm_i = {}\n",
    "    for i in range(1,4):\n",
    "        suma = 0\n",
    "        for j in range(1, 9):\n",
    "            suma += A_j[j] * p_i_j[(i, j)]\n",
    "        lwcm_i[i] = suma\n",
    "\n",
    "    # Convertir todo a un DataFrame una sola vez\n",
    "    new_rows = []\n",
    "    for i in range(1,4):\n",
    "        new_row = {\n",
    "            'HOSPITAL': i,\n",
    "            'AVERAGE LOS': mean_los_i[i],\n",
    "            'CASE MIX ADJUSTED LOS': cmal_i[i],\n",
    "            'LOS WEIGHTED CASE MIX': lwcm_i[i]\n",
    "        }\n",
    "        new_rows.append(new_row)\n",
    "    new_rows_df = pd.DataFrame(new_rows)\n",
    "\n",
    "    new_rows_df[\"AVERAGE LOS INDEX\"] = new_rows_df[\"AVERAGE LOS\"] / mean_los\n",
    "    new_rows_df[\"LOS INDEX\"] = new_rows_df[\"CASE MIX ADJUSTED LOS\"] / mean_los\n",
    "    new_rows_df[\"CASE MIX INDEX\"] = new_rows_df[\"LOS WEIGHTED CASE MIX\"] / mean_los\n",
    "\n",
    "    new_rows_df[\"AVERAGE LOS DIFFER\"] = new_rows_df[\"AVERAGE LOS\"] - mean_los\n",
    "    new_rows_df[\"DIFFER DUE TO LOS\"] = new_rows_df[\"CASE MIX ADJUSTED LOS\"] - mean_los\n",
    "    new_rows_df[\"DIFFER DUE TO CASE MIX\"] = new_rows_df[\"LOS WEIGHTED CASE MIX\"] - mean_los\n",
    "\n",
    "    new_rows_df[\"INTERACT DIFFER\"] = new_rows_df[\"AVERAGE LOS DIFFER\"] - new_rows_df[\"DIFFER DUE TO LOS\"] - new_rows_df[\"DIFFER DUE TO CASE MIX\"]\n",
    "\n",
    "    return new_rows_df\n",
    "\n",
    "# Ejemplo de uso\n",
    "#unidades = [\"ICU\", \"OR\", \"SDU_WARD\", \"GA\"]\n",
    "unidades = [\"ICU\", \"OR\", \"SDU_WARD\"]\n",
    "report_df = los_case_mix_report(tl, unidades)\n",
    "display(report_df)\n"
   ]
  },
  {
   "cell_type": "code",
   "execution_count": 227,
   "id": "463f43cd",
   "metadata": {},
   "outputs": [
    {
     "name": "stdout",
     "output_type": "stream",
     "text": [
      "Hospital 1 for MS_GRD: 1\n"
     ]
    },
    {
     "data": {
      "text/plain": [
       "[['', 'OR', 'ICU', 'SDU_WARD'],\n",
       " ['OR', 0, 0.932, 0.068],\n",
       " ['ICU', 0.084, 0, 0.916],\n",
       " ['SDU_WARD', 0.014, 0.069, 0.917]]"
      ]
     },
     "metadata": {},
     "output_type": "display_data"
    },
    {
     "name": "stdout",
     "output_type": "stream",
     "text": [
      "Hospital 1 for MS_GRD: 2\n"
     ]
    },
    {
     "data": {
      "text/plain": [
       "[['', 'OR', 'ICU', 'SDU_WARD'],\n",
       " ['OR', 0, 0.927, 0.073],\n",
       " ['ICU', 0.095, 0, 0.905],\n",
       " ['SDU_WARD', 0.015, 0.04, 0.945]]"
      ]
     },
     "metadata": {},
     "output_type": "display_data"
    },
    {
     "name": "stdout",
     "output_type": "stream",
     "text": [
      "Hospital 1 for MS_GRD: 3\n"
     ]
    },
    {
     "data": {
      "text/plain": [
       "[['', 'OR', 'ICU', 'SDU_WARD'],\n",
       " ['OR', 0, 0.927, 0.073],\n",
       " ['ICU', 0.072, 0, 0.928],\n",
       " ['SDU_WARD', 0.007, 0.057, 0.935]]"
      ]
     },
     "metadata": {},
     "output_type": "display_data"
    },
    {
     "name": "stdout",
     "output_type": "stream",
     "text": [
      "Hospital 1 for MS_GRD: 4\n"
     ]
    },
    {
     "data": {
      "text/plain": [
       "[['', 'OR', 'ICU', 'SDU_WARD'],\n",
       " ['OR', 0, 0.877, 0.123],\n",
       " ['ICU', 0.115, 0, 0.885],\n",
       " ['SDU_WARD', 0.006, 0.083, 0.911]]"
      ]
     },
     "metadata": {},
     "output_type": "display_data"
    },
    {
     "name": "stdout",
     "output_type": "stream",
     "text": [
      "Hospital 1 for MS_GRD: 5\n"
     ]
    },
    {
     "data": {
      "text/plain": [
       "[['', 'OR', 'ICU', 'SDU_WARD'],\n",
       " ['OR', 0, 0.892, 0.108],\n",
       " ['ICU', 0.035, 0, 0.965],\n",
       " ['SDU_WARD', 0.02, 0.038, 0.943]]"
      ]
     },
     "metadata": {},
     "output_type": "display_data"
    },
    {
     "name": "stdout",
     "output_type": "stream",
     "text": [
      "Hospital 1 for MS_GRD: 6\n"
     ]
    },
    {
     "data": {
      "text/plain": [
       "[['', 'OR', 'ICU', 'SDU_WARD'],\n",
       " ['OR', 0, 0.907, 0.093],\n",
       " ['ICU', 0.089, 0, 0.911],\n",
       " ['SDU_WARD', 0.014, 0.04, 0.946]]"
      ]
     },
     "metadata": {},
     "output_type": "display_data"
    },
    {
     "name": "stdout",
     "output_type": "stream",
     "text": [
      "Hospital 1 for MS_GRD: 7\n"
     ]
    },
    {
     "data": {
      "text/plain": [
       "[['', 'OR', 'ICU', 'SDU_WARD'],\n",
       " ['OR', 0, 0.97, 0.03],\n",
       " ['ICU', 0.108, 0, 0.892],\n",
       " ['SDU_WARD', 0.022, 0.059, 0.92]]"
      ]
     },
     "metadata": {},
     "output_type": "display_data"
    },
    {
     "name": "stdout",
     "output_type": "stream",
     "text": [
      "Hospital 1 for MS_GRD: 8\n"
     ]
    },
    {
     "data": {
      "text/plain": [
       "[['', 'OR', 'ICU', 'SDU_WARD'],\n",
       " ['OR', 0, 0.888, 0.112],\n",
       " ['ICU', 0.028, 0, 0.972],\n",
       " ['SDU_WARD', 0.012, 0.036, 0.952]]"
      ]
     },
     "metadata": {},
     "output_type": "display_data"
    },
    {
     "name": "stdout",
     "output_type": "stream",
     "text": [
      "Hospital 2 for MS_GRD: 1\n"
     ]
    },
    {
     "data": {
      "text/plain": [
       "[['', 'OR', 'ICU', 'SDU_WARD'],\n",
       " ['OR', 0, 0.937, 0.063],\n",
       " ['ICU', 0.089, 0, 0.911],\n",
       " ['SDU_WARD', 0.017, 0.065, 0.919]]"
      ]
     },
     "metadata": {},
     "output_type": "display_data"
    },
    {
     "name": "stdout",
     "output_type": "stream",
     "text": [
      "Hospital 2 for MS_GRD: 2\n"
     ]
    },
    {
     "data": {
      "text/plain": [
       "[['', 'OR', 'ICU', 'SDU_WARD'],\n",
       " ['OR', 0, 0.922, 0.078],\n",
       " ['ICU', 0.093, 0, 0.907],\n",
       " ['SDU_WARD', 0.013, 0.039, 0.949]]"
      ]
     },
     "metadata": {},
     "output_type": "display_data"
    },
    {
     "name": "stdout",
     "output_type": "stream",
     "text": [
      "Hospital 2 for MS_GRD: 3\n"
     ]
    },
    {
     "data": {
      "text/plain": [
       "[['', 'OR', 'ICU', 'SDU_WARD'],\n",
       " ['OR', 0, 0.923, 0.077],\n",
       " ['ICU', 0.058, 0, 0.942],\n",
       " ['SDU_WARD', 0.007, 0.059, 0.934]]"
      ]
     },
     "metadata": {},
     "output_type": "display_data"
    },
    {
     "name": "stdout",
     "output_type": "stream",
     "text": [
      "Hospital 2 for MS_GRD: 4\n"
     ]
    },
    {
     "data": {
      "text/plain": [
       "[['', 'OR', 'ICU', 'SDU_WARD'],\n",
       " ['OR', 0, 0.875, 0.125],\n",
       " ['ICU', 0.114, 0, 0.886],\n",
       " ['SDU_WARD', 0.005, 0.09, 0.905]]"
      ]
     },
     "metadata": {},
     "output_type": "display_data"
    },
    {
     "name": "stdout",
     "output_type": "stream",
     "text": [
      "Hospital 2 for MS_GRD: 5\n"
     ]
    },
    {
     "data": {
      "text/plain": [
       "[['', 'OR', 'ICU', 'SDU_WARD'],\n",
       " ['OR', 0, 0.904, 0.096],\n",
       " ['ICU', 0.036, 0, 0.964],\n",
       " ['SDU_WARD', 0.023, 0.033, 0.944]]"
      ]
     },
     "metadata": {},
     "output_type": "display_data"
    },
    {
     "name": "stdout",
     "output_type": "stream",
     "text": [
      "Hospital 2 for MS_GRD: 6\n"
     ]
    },
    {
     "data": {
      "text/plain": [
       "[['', 'OR', 'ICU', 'SDU_WARD'],\n",
       " ['OR', 0, 0.926, 0.074],\n",
       " ['ICU', 0.082, 0, 0.918],\n",
       " ['SDU_WARD', 0.015, 0.036, 0.949]]"
      ]
     },
     "metadata": {},
     "output_type": "display_data"
    },
    {
     "name": "stdout",
     "output_type": "stream",
     "text": [
      "Hospital 2 for MS_GRD: 7\n"
     ]
    },
    {
     "data": {
      "text/plain": [
       "[['', 'OR', 'ICU', 'SDU_WARD'],\n",
       " ['OR', 0, 0.973, 0.027],\n",
       " ['ICU', 0.114, 0, 0.886],\n",
       " ['SDU_WARD', 0.02, 0.058, 0.922]]"
      ]
     },
     "metadata": {},
     "output_type": "display_data"
    },
    {
     "name": "stdout",
     "output_type": "stream",
     "text": [
      "Hospital 2 for MS_GRD: 8\n"
     ]
    },
    {
     "data": {
      "text/plain": [
       "[['', 'OR', 'ICU', 'SDU_WARD'],\n",
       " ['OR', 0, 0.904, 0.096],\n",
       " ['ICU', 0.031, 0, 0.969],\n",
       " ['SDU_WARD', 0.011, 0.035, 0.954]]"
      ]
     },
     "metadata": {},
     "output_type": "display_data"
    },
    {
     "name": "stdout",
     "output_type": "stream",
     "text": [
      "Hospital 3 for MS_GRD: 1\n"
     ]
    },
    {
     "data": {
      "text/plain": [
       "[['', 'OR', 'ICU', 'SDU_WARD'],\n",
       " ['OR', 0, 0.929, 0.071],\n",
       " ['ICU', 0.084, 0, 0.916],\n",
       " ['SDU_WARD', 0.014, 0.065, 0.921]]"
      ]
     },
     "metadata": {},
     "output_type": "display_data"
    },
    {
     "name": "stdout",
     "output_type": "stream",
     "text": [
      "Hospital 3 for MS_GRD: 2\n"
     ]
    },
    {
     "data": {
      "text/plain": [
       "[['', 'OR', 'ICU', 'SDU_WARD'],\n",
       " ['OR', 0, 0.925, 0.075],\n",
       " ['ICU', 0.092, 0, 0.908],\n",
       " ['SDU_WARD', 0.015, 0.035, 0.95]]"
      ]
     },
     "metadata": {},
     "output_type": "display_data"
    },
    {
     "name": "stdout",
     "output_type": "stream",
     "text": [
      "Hospital 3 for MS_GRD: 3\n"
     ]
    },
    {
     "data": {
      "text/plain": [
       "[['', 'OR', 'ICU', 'SDU_WARD'],\n",
       " ['OR', 0, 0.918, 0.082],\n",
       " ['ICU', 0.058, 0, 0.942],\n",
       " ['SDU_WARD', 0.008, 0.054, 0.939]]"
      ]
     },
     "metadata": {},
     "output_type": "display_data"
    },
    {
     "name": "stdout",
     "output_type": "stream",
     "text": [
      "Hospital 3 for MS_GRD: 4\n"
     ]
    },
    {
     "data": {
      "text/plain": [
       "[['', 'OR', 'ICU', 'SDU_WARD'],\n",
       " ['OR', 0, 0.867, 0.133],\n",
       " ['ICU', 0.117, 0, 0.883],\n",
       " ['SDU_WARD', 0.004, 0.08, 0.916]]"
      ]
     },
     "metadata": {},
     "output_type": "display_data"
    },
    {
     "name": "stdout",
     "output_type": "stream",
     "text": [
      "Hospital 3 for MS_GRD: 5\n"
     ]
    },
    {
     "data": {
      "text/plain": [
       "[['', 'OR', 'ICU', 'SDU_WARD'],\n",
       " ['OR', 0, 0.894, 0.106],\n",
       " ['ICU', 0.038, 0, 0.962],\n",
       " ['SDU_WARD', 0.021, 0.031, 0.948]]"
      ]
     },
     "metadata": {},
     "output_type": "display_data"
    },
    {
     "name": "stdout",
     "output_type": "stream",
     "text": [
      "Hospital 3 for MS_GRD: 6\n"
     ]
    },
    {
     "data": {
      "text/plain": [
       "[['', 'OR', 'ICU', 'SDU_WARD'],\n",
       " ['OR', 0, 0.903, 0.097],\n",
       " ['ICU', 0.09, 0, 0.91],\n",
       " ['SDU_WARD', 0.009, 0.042, 0.949]]"
      ]
     },
     "metadata": {},
     "output_type": "display_data"
    },
    {
     "name": "stdout",
     "output_type": "stream",
     "text": [
      "Hospital 3 for MS_GRD: 7\n"
     ]
    },
    {
     "data": {
      "text/plain": [
       "[['', 'OR', 'ICU', 'SDU_WARD'],\n",
       " ['OR', 0, 0.974, 0.026],\n",
       " ['ICU', 0.121, 0, 0.879],\n",
       " ['SDU_WARD', 0.021, 0.059, 0.92]]"
      ]
     },
     "metadata": {},
     "output_type": "display_data"
    },
    {
     "name": "stdout",
     "output_type": "stream",
     "text": [
      "Hospital 3 for MS_GRD: 8\n"
     ]
    },
    {
     "data": {
      "text/plain": [
       "[['', 'OR', 'ICU', 'SDU_WARD'],\n",
       " ['OR', 0, 0.892, 0.108],\n",
       " ['ICU', 0.024, 0, 0.976],\n",
       " ['SDU_WARD', 0.012, 0.028, 0.96]]"
      ]
     },
     "metadata": {},
     "output_type": "display_data"
    }
   ],
   "source": [
    "# Matriz de transición\n",
    "for hospital in range(1,4):    \n",
    "    for grd in range(1, 9):\n",
    "        v3 = tl[(tl[\"UNIDAD\"].isin([\"ICU\", \"OR\", \"SDU_WARD\"])) & \n",
    "            (tl[\"MS_GRD\"] == grd) & \n",
    "            (tl[\"HOSPITAL\"] == f\"Hospital_{hospital}\")].sort_values([\"ID\", \"TI\"])\n",
    "\n",
    "        transiciones = {}\n",
    "\n",
    "        for i in range(len(v3) - 1):\n",
    "            row_current = v3.iloc[i]\n",
    "            row_next = v3.iloc[i + 1]\n",
    "\n",
    "            # Verificar condiciones\n",
    "            same_id = row_current['ID'] == row_next['ID']\n",
    "            actual = row_current['UNIDAD']\n",
    "            siguiente = row_next['UNIDAD']\n",
    "            distinta = actual != siguiente\n",
    "            if same_id and distinta:\n",
    "                if (actual, siguiente) in transiciones:\n",
    "                    transiciones[(actual, siguiente)] += 1\n",
    "\n",
    "                else:\n",
    "                    transiciones[(actual, siguiente)] = 1\n",
    "\n",
    "            # Solo para cuando esta en SDU_WARD al ser nodo de termino\n",
    "            elif not same_id and actual == \"SDU_WARD\":\n",
    "                if (actual, actual) in transiciones:\n",
    "                    transiciones[(actual, actual)] += 1\n",
    "                else:\n",
    "                    transiciones[(actual, actual)] = 1\n",
    "\n",
    "\n",
    "\n",
    "        unidades = [\"OR\",\"ICU\", \"SDU_WARD\"]\n",
    "        num = len(unidades) + 1\n",
    "        matriz = []\n",
    "        for i in range(num):\n",
    "            matriz.append([0] * num)\n",
    "\n",
    "        for i in range(1, num):\n",
    "            matriz[0][i] = unidades[i - 1]\n",
    "            matriz[i][0] = unidades[i - 1]\n",
    "\n",
    "        for i in range(1, num):\n",
    "            for j in range(1, num):\n",
    "                if (matriz[i][0], matriz[0][j]) in transiciones:\n",
    "                    matriz[i][j] = transiciones[(matriz[i][0], matriz[0][j])]\n",
    "                else:\n",
    "                    matriz[i][j] = 0\n",
    "\n",
    "        for i in range(1, num):\n",
    "            total = sum(matriz[i][1:])\n",
    "            for j in range(1, num):\n",
    "                    matriz[i][j] = round(matriz[i][j]/total, 3)\n",
    "        \n",
    "        matriz[0][0] = \"\"\n",
    "        matriz[1][1] = 0\n",
    "        matriz[2][2] = 0\n",
    "\n",
    "        print(f\"Hospital {hospital} for MS_GRD: {grd}\")\n",
    "        # display(pd.DataFrame(matriz))\n",
    "        display(matriz)"
   ]
  }
 ],
 "metadata": {
  "kernelspec": {
   "display_name": "Python 3",
   "language": "python",
   "name": "python3"
  },
  "language_info": {
   "codemirror_mode": {
    "name": "ipython",
    "version": 3
   },
   "file_extension": ".py",
   "mimetype": "text/x-python",
   "name": "python",
   "nbconvert_exporter": "python",
   "pygments_lexer": "ipython3",
   "version": "3.10.11"
  }
 },
 "nbformat": 4,
 "nbformat_minor": 5
}
