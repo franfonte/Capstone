{
 "cells": [
  {
   "cell_type": "code",
   "execution_count": 1,
   "id": "a5b9220c",
   "metadata": {},
   "outputs": [],
   "source": [
    "import parametros as p"
   ]
  },
  {
   "cell_type": "code",
   "execution_count": null,
   "id": "6c360dd6",
   "metadata": {},
   "outputs": [],
   "source": [
    "costos = \"\"\"23442\"\"\"\n",
    "\n",
    "lista_costos = []\n",
    "for numero in costos.split(\"\\n\"):\n",
    "    lista_costos.append(float(numero.replace(\",\", \".\")))\n",
    "\n",
    "lista_param = []\n",
    "for hospital in range(1,4):\n",
    "    for drg in range(1,9):\n",
    "        for unidad_inicio in range(1,4):\n",
    "                for unidad_necesitada in range(1,4):\n",
    "                    lista_param.append(p.dict_costo_espera_hospitalizado[hospital][drg][unidad_inicio][unidad_necesitada])"
   ]
  },
  {
   "cell_type": "code",
   "execution_count": null,
   "id": "9e6fc043",
   "metadata": {},
   "outputs": [],
   "source": [
    "print(lista_costos == lista_param)\n",
    "print(lista_costos)\n",
    "print(lista_param)\n",
    "print(len(lista_costos))\n",
    "print(len(lista_param))"
   ]
  }
 ],
 "metadata": {
  "kernelspec": {
   "display_name": "Python 3",
   "language": "python",
   "name": "python3"
  },
  "language_info": {
   "codemirror_mode": {
    "name": "ipython",
    "version": 3
   },
   "file_extension": ".py",
   "mimetype": "text/x-python",
   "name": "python",
   "nbconvert_exporter": "python",
   "pygments_lexer": "ipython3",
   "version": "3.10.11"
  }
 },
 "nbformat": 4,
 "nbformat_minor": 5
}
