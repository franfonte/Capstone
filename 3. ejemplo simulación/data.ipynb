{
 "cells": [
  {
   "cell_type": "code",
   "execution_count": 1,
   "metadata": {},
   "outputs": [],
   "source": [
    "import pandas as pd"
   ]
  },
  {
   "cell_type": "markdown",
   "metadata": {},
   "source": [
    "### Cargar Datos"
   ]
  },
  {
   "cell_type": "code",
   "execution_count": 2,
   "metadata": {},
   "outputs": [],
   "source": [
    "df = pd.read_excel('Datos.xlsx')"
   ]
  },
  {
   "cell_type": "code",
   "execution_count": 3,
   "metadata": {},
   "outputs": [
    {
     "data": {
      "text/html": [
       "<div>\n",
       "<style scoped>\n",
       "    .dataframe tbody tr th:only-of-type {\n",
       "        vertical-align: middle;\n",
       "    }\n",
       "\n",
       "    .dataframe tbody tr th {\n",
       "        vertical-align: top;\n",
       "    }\n",
       "\n",
       "    .dataframe thead th {\n",
       "        text-align: right;\n",
       "    }\n",
       "</style>\n",
       "<table border=\"1\" class=\"dataframe\">\n",
       "  <thead>\n",
       "    <tr style=\"text-align: right;\">\n",
       "      <th></th>\n",
       "      <th>ID Cliente</th>\n",
       "      <th>Nodo</th>\n",
       "      <th>Inicio</th>\n",
       "      <th>Fin</th>\n",
       "    </tr>\n",
       "  </thead>\n",
       "  <tbody>\n",
       "    <tr>\n",
       "      <th>1551</th>\n",
       "      <td>1033</td>\n",
       "      <td>Lista de Espera</td>\n",
       "      <td>03:14:33:19</td>\n",
       "      <td>03:14:33:19</td>\n",
       "    </tr>\n",
       "    <tr>\n",
       "      <th>1566</th>\n",
       "      <td>1033</td>\n",
       "      <td>Atención en Cajas</td>\n",
       "      <td>03:14:45:29</td>\n",
       "      <td>03:14:49:14</td>\n",
       "    </tr>\n",
       "  </tbody>\n",
       "</table>\n",
       "</div>"
      ],
      "text/plain": [
       "      ID Cliente               Nodo       Inicio          Fin\n",
       "1551        1033    Lista de Espera  03:14:33:19  03:14:33:19\n",
       "1566        1033  Atención en Cajas  03:14:45:29  03:14:49:14"
      ]
     },
     "execution_count": 3,
     "metadata": {},
     "output_type": "execute_result"
    }
   ],
   "source": [
    "df[df['ID Cliente'] == 1033]"
   ]
  },
  {
   "cell_type": "code",
   "execution_count": 4,
   "metadata": {},
   "outputs": [
    {
     "data": {
      "text/html": [
       "<div>\n",
       "<style scoped>\n",
       "    .dataframe tbody tr th:only-of-type {\n",
       "        vertical-align: middle;\n",
       "    }\n",
       "\n",
       "    .dataframe tbody tr th {\n",
       "        vertical-align: top;\n",
       "    }\n",
       "\n",
       "    .dataframe thead th {\n",
       "        text-align: right;\n",
       "    }\n",
       "</style>\n",
       "<table border=\"1\" class=\"dataframe\">\n",
       "  <thead>\n",
       "    <tr style=\"text-align: right;\">\n",
       "      <th></th>\n",
       "      <th>ID Cliente</th>\n",
       "      <th>Nodo</th>\n",
       "      <th>Inicio</th>\n",
       "      <th>Fin</th>\n",
       "    </tr>\n",
       "  </thead>\n",
       "  <tbody>\n",
       "    <tr>\n",
       "      <th>count</th>\n",
       "      <td>447610.00000</td>\n",
       "      <td>447610</td>\n",
       "      <td>447610</td>\n",
       "      <td>447610</td>\n",
       "    </tr>\n",
       "    <tr>\n",
       "      <th>unique</th>\n",
       "      <td>NaN</td>\n",
       "      <td>3</td>\n",
       "      <td>445718</td>\n",
       "      <td>445740</td>\n",
       "    </tr>\n",
       "    <tr>\n",
       "      <th>top</th>\n",
       "      <td>NaN</td>\n",
       "      <td>Atención en Cajas</td>\n",
       "      <td>655:18:23:36</td>\n",
       "      <td>755:15:02:30</td>\n",
       "    </tr>\n",
       "    <tr>\n",
       "      <th>freq</th>\n",
       "      <td>NaN</td>\n",
       "      <td>256220</td>\n",
       "      <td>3</td>\n",
       "      <td>3</td>\n",
       "    </tr>\n",
       "    <tr>\n",
       "      <th>mean</th>\n",
       "      <td>149565.52899</td>\n",
       "      <td>NaN</td>\n",
       "      <td>NaN</td>\n",
       "      <td>NaN</td>\n",
       "    </tr>\n",
       "    <tr>\n",
       "      <th>std</th>\n",
       "      <td>86410.39573</td>\n",
       "      <td>NaN</td>\n",
       "      <td>NaN</td>\n",
       "      <td>NaN</td>\n",
       "    </tr>\n",
       "    <tr>\n",
       "      <th>min</th>\n",
       "      <td>1.00000</td>\n",
       "      <td>NaN</td>\n",
       "      <td>NaN</td>\n",
       "      <td>NaN</td>\n",
       "    </tr>\n",
       "    <tr>\n",
       "      <th>25%</th>\n",
       "      <td>74673.25000</td>\n",
       "      <td>NaN</td>\n",
       "      <td>NaN</td>\n",
       "      <td>NaN</td>\n",
       "    </tr>\n",
       "    <tr>\n",
       "      <th>50%</th>\n",
       "      <td>149619.00000</td>\n",
       "      <td>NaN</td>\n",
       "      <td>NaN</td>\n",
       "      <td>NaN</td>\n",
       "    </tr>\n",
       "    <tr>\n",
       "      <th>75%</th>\n",
       "      <td>224341.75000</td>\n",
       "      <td>NaN</td>\n",
       "      <td>NaN</td>\n",
       "      <td>NaN</td>\n",
       "    </tr>\n",
       "    <tr>\n",
       "      <th>max</th>\n",
       "      <td>299319.00000</td>\n",
       "      <td>NaN</td>\n",
       "      <td>NaN</td>\n",
       "      <td>NaN</td>\n",
       "    </tr>\n",
       "  </tbody>\n",
       "</table>\n",
       "</div>"
      ],
      "text/plain": [
       "          ID Cliente               Nodo        Inicio           Fin\n",
       "count   447610.00000             447610        447610        447610\n",
       "unique           NaN                  3        445718        445740\n",
       "top              NaN  Atención en Cajas  655:18:23:36  755:15:02:30\n",
       "freq             NaN             256220             3             3\n",
       "mean    149565.52899                NaN           NaN           NaN\n",
       "std      86410.39573                NaN           NaN           NaN\n",
       "min          1.00000                NaN           NaN           NaN\n",
       "25%      74673.25000                NaN           NaN           NaN\n",
       "50%     149619.00000                NaN           NaN           NaN\n",
       "75%     224341.75000                NaN           NaN           NaN\n",
       "max     299319.00000                NaN           NaN           NaN"
      ]
     },
     "execution_count": 4,
     "metadata": {},
     "output_type": "execute_result"
    }
   ],
   "source": [
    "df.describe(include='all')"
   ]
  },
  {
   "cell_type": "markdown",
   "metadata": {},
   "source": [
    "### Proceso de Llegada"
   ]
  },
  {
   "cell_type": "code",
   "execution_count": 5,
   "metadata": {},
   "outputs": [],
   "source": [
    "df_sorted = df.sort_values(by=['ID Cliente', 'Inicio']).drop_duplicates('ID Cliente', keep='first')"
   ]
  },
  {
   "cell_type": "code",
   "execution_count": 6,
   "metadata": {},
   "outputs": [
    {
     "data": {
      "text/html": [
       "<div>\n",
       "<style scoped>\n",
       "    .dataframe tbody tr th:only-of-type {\n",
       "        vertical-align: middle;\n",
       "    }\n",
       "\n",
       "    .dataframe tbody tr th {\n",
       "        vertical-align: top;\n",
       "    }\n",
       "\n",
       "    .dataframe thead th {\n",
       "        text-align: right;\n",
       "    }\n",
       "</style>\n",
       "<table border=\"1\" class=\"dataframe\">\n",
       "  <thead>\n",
       "    <tr style=\"text-align: right;\">\n",
       "      <th></th>\n",
       "      <th>ID Cliente</th>\n",
       "      <th>Nodo</th>\n",
       "      <th>Inicio</th>\n",
       "      <th>Fin</th>\n",
       "    </tr>\n",
       "  </thead>\n",
       "  <tbody>\n",
       "    <tr>\n",
       "      <th>0</th>\n",
       "      <td>1</td>\n",
       "      <td>Atención en Cajas</td>\n",
       "      <td>00:00:42:25</td>\n",
       "      <td>00:00:47:10</td>\n",
       "    </tr>\n",
       "    <tr>\n",
       "      <th>1</th>\n",
       "      <td>2</td>\n",
       "      <td>Atención en Cajas</td>\n",
       "      <td>00:01:00:24</td>\n",
       "      <td>00:01:27:54</td>\n",
       "    </tr>\n",
       "    <tr>\n",
       "      <th>2</th>\n",
       "      <td>3</td>\n",
       "      <td>Atención en Cajas</td>\n",
       "      <td>00:01:33:58</td>\n",
       "      <td>00:01:53:13</td>\n",
       "    </tr>\n",
       "    <tr>\n",
       "      <th>4</th>\n",
       "      <td>4</td>\n",
       "      <td>Atención en Cajas</td>\n",
       "      <td>00:02:17:32</td>\n",
       "      <td>00:02:40:20</td>\n",
       "    </tr>\n",
       "    <tr>\n",
       "      <th>3</th>\n",
       "      <td>5</td>\n",
       "      <td>Atención en Cajas</td>\n",
       "      <td>00:02:21:36</td>\n",
       "      <td>00:02:24:09</td>\n",
       "    </tr>\n",
       "    <tr>\n",
       "      <th>...</th>\n",
       "      <td>...</td>\n",
       "      <td>...</td>\n",
       "      <td>...</td>\n",
       "      <td>...</td>\n",
       "    </tr>\n",
       "    <tr>\n",
       "      <th>447605</th>\n",
       "      <td>299315</td>\n",
       "      <td>Atención en Cajas</td>\n",
       "      <td>999:21:45:47</td>\n",
       "      <td>999:21:49:49</td>\n",
       "    </tr>\n",
       "    <tr>\n",
       "      <th>447606</th>\n",
       "      <td>299316</td>\n",
       "      <td>Atención en Cajas</td>\n",
       "      <td>999:21:49:58</td>\n",
       "      <td>999:21:53:08</td>\n",
       "    </tr>\n",
       "    <tr>\n",
       "      <th>447607</th>\n",
       "      <td>299317</td>\n",
       "      <td>Atención en Cajas</td>\n",
       "      <td>999:21:50:42</td>\n",
       "      <td>999:22:03:21</td>\n",
       "    </tr>\n",
       "    <tr>\n",
       "      <th>447608</th>\n",
       "      <td>299318</td>\n",
       "      <td>Atención en Cajas</td>\n",
       "      <td>999:22:32:44</td>\n",
       "      <td>999:22:46:07</td>\n",
       "    </tr>\n",
       "    <tr>\n",
       "      <th>447609</th>\n",
       "      <td>299319</td>\n",
       "      <td>Atención en Cajas</td>\n",
       "      <td>999:22:40:46</td>\n",
       "      <td>999:23:03:39</td>\n",
       "    </tr>\n",
       "  </tbody>\n",
       "</table>\n",
       "<p>299319 rows × 4 columns</p>\n",
       "</div>"
      ],
      "text/plain": [
       "        ID Cliente               Nodo        Inicio           Fin\n",
       "0                1  Atención en Cajas   00:00:42:25   00:00:47:10\n",
       "1                2  Atención en Cajas   00:01:00:24   00:01:27:54\n",
       "2                3  Atención en Cajas   00:01:33:58   00:01:53:13\n",
       "4                4  Atención en Cajas   00:02:17:32   00:02:40:20\n",
       "3                5  Atención en Cajas   00:02:21:36   00:02:24:09\n",
       "...            ...                ...           ...           ...\n",
       "447605      299315  Atención en Cajas  999:21:45:47  999:21:49:49\n",
       "447606      299316  Atención en Cajas  999:21:49:58  999:21:53:08\n",
       "447607      299317  Atención en Cajas  999:21:50:42  999:22:03:21\n",
       "447608      299318  Atención en Cajas  999:22:32:44  999:22:46:07\n",
       "447609      299319  Atención en Cajas  999:22:40:46  999:23:03:39\n",
       "\n",
       "[299319 rows x 4 columns]"
      ]
     },
     "execution_count": 6,
     "metadata": {},
     "output_type": "execute_result"
    }
   ],
   "source": [
    "df_sorted"
   ]
  },
  {
   "cell_type": "code",
   "execution_count": 7,
   "metadata": {},
   "outputs": [],
   "source": [
    "# Extracting the hour from 'Inicio'\n",
    "df_sorted['Hour'] = df_sorted['Inicio'].str.split(':').str[1].astype(int)\n",
    "\n",
    "# Grouping by 'Hour' and counting the number of arrivals\n",
    "arrivals_per_hour = df_sorted.groupby('Hour').size()/1000"
   ]
  },
  {
   "cell_type": "code",
   "execution_count": 8,
   "metadata": {},
   "outputs": [
    {
     "data": {
      "image/png": "[encoded data removed]",
      "text/plain": [
       "<Figure size 1000x600 with 1 Axes>"
      ]
     },
     "metadata": {},
     "output_type": "display_data"
    }
   ],
   "source": [
    "import matplotlib.pyplot as plt\n",
    "\n",
    "# Plotting the arrivals per hour\n",
    "arrivals_per_hour.plot(kind='bar', figsize=(10, 6))\n",
    "plt.title('Arrivals per Hour')\n",
    "plt.xlabel('Hour')\n",
    "plt.ylabel('Number of Arrivals')\n",
    "plt.xticks(rotation=0)\n",
    "plt.show()"
   ]
  },
  {
   "cell_type": "code",
   "execution_count": 9,
   "metadata": {},
   "outputs": [
    {
     "data": {
      "text/plain": [
       "Hour\n",
       "0      1.979\n",
       "1      1.972\n",
       "2      4.054\n",
       "3      4.088\n",
       "4      5.998\n",
       "5      7.970\n",
       "6     10.015\n",
       "7     13.922\n",
       "8     15.979\n",
       "9     12.109\n",
       "10    11.913\n",
       "11    15.789\n",
       "12    19.744\n",
       "13    24.030\n",
       "14    29.776\n",
       "15    26.026\n",
       "16    22.102\n",
       "17    18.033\n",
       "18    17.814\n",
       "19    12.224\n",
       "20     9.957\n",
       "21     5.730\n",
       "22     6.152\n",
       "23     1.943\n",
       "dtype: float64"
      ]
     },
     "execution_count": 9,
     "metadata": {},
     "output_type": "execute_result"
    }
   ],
   "source": [
    "arrivals_per_hour"
   ]
  },
  {
   "cell_type": "code",
   "execution_count": 10,
   "metadata": {},
   "outputs": [],
   "source": [
    "import numpy as np\n",
    "\n",
    "def lambda_t(t):\n",
    "    # Definimos los rangos de acuerdo con la tabla proporcionada\n",
    "    tabla = [\n",
    "        (0, 1, 1.979),\n",
    "        (1, 2, 1.972),\n",
    "        (2, 3, 4.054),\n",
    "        (3, 4, 4.088),\n",
    "        (4, 5, 5.998),\n",
    "        (5, 6, 7.970),\n",
    "        (6, 7, 10.015),\n",
    "        (7, 8, 13.922),\n",
    "        (8, 9, 15.979),\n",
    "        (9, 10, 12.109),\n",
    "        (10, 11, 11.913),\n",
    "        (11, 12, 15.789),\n",
    "        (12, 13, 19.744),\n",
    "        (13, 14, 24.030),\n",
    "        (14, 15, 29.776),\n",
    "        (15, 16, 26.026),\n",
    "        (16, 17, 22.102),\n",
    "        (17, 18, 18.033),\n",
    "        (18, 19, 17.814),\n",
    "        (19, 20, 12.224),\n",
    "        (20, 21, 9.957),\n",
    "        (21, 22, 5.730),\n",
    "        (22, 23, 6.152),\n",
    "        (23, 24, 1.943)\n",
    "    ]\n",
    "    \n",
    "    # Iteramos sobre la tabla para encontrar el rango correspondiente\n",
    "    for valor_min, valor_max, lambda_valor in tabla:\n",
    "        if valor_min <= t < valor_max:\n",
    "            return lambda_valor\n",
    "    \n",
    "    # Si el valor no está en ningún rango, devolver None o un mensaje de error\n",
    "    return None\n",
    "\n",
    "def obtener_mayor_tasa(lambda_t):\n",
    "    # Suponemos que t varía entre 0 y 24, basado en los valores de la tabla\n",
    "    max_tasa = max(lambda_t(t) for t in range(24))\n",
    "    return max_tasa\n",
    "\n",
    "def generar_poisson_no_homogeneo(lambda_t, T_max):\n",
    "    t = 0\n",
    "    lambda_u = obtener_mayor_tasa(lambda_t)\n",
    "    eventos = list()\n",
    "    while True:\n",
    "        # Paso 1: Generar u1 ~ U(0,1)\n",
    "        u1 = np.random.uniform(0, 1)\n",
    "        \n",
    "        # Paso 2: Actualizar t\n",
    "        t -= (1 / lambda_u) * np.log(u1)\n",
    "        \n",
    "        # Paso 3: Generar u2 ~ U(0,1)\n",
    "        u2 = np.random.uniform(0, 1)\n",
    "        \n",
    "        # Paso 4: Comparar u2 con λ(t)/λ_u\n",
    "        if u2 <= lambda_t(t%24) / lambda_u:\n",
    "            eventos.append(t)\n",
    "            if t > T_max:\n",
    "                return np.array(eventos)"
   ]
  },
  {
   "cell_type": "code",
   "execution_count": 11,
   "metadata": {},
   "outputs": [
    {
     "data": {
      "text/plain": [
       "array([ 1.996,  1.933,  4.121,  4.176,  5.955,  8.098, 10.018, 13.875,\n",
       "       15.798, 11.856, 11.891, 15.867, 19.759, 24.21 , 29.937, 25.977,\n",
       "       21.992, 18.061, 17.761, 12.135,  9.984,  5.527,  6.127,  1.957])"
      ]
     },
     "execution_count": 11,
     "metadata": {},
     "output_type": "execute_result"
    }
   ],
   "source": [
    "test = generar_poisson_no_homogeneo(lambda_t, 24*1000)%24\n",
    "\n",
    "# Contar el número de eventos en cada intervalo de 1 hora\n",
    "hist, _ = np.histogram(test, bins=24)\n",
    "\n",
    "# Calcular la tasa de ocurrencia promedio por cada intervalo de 1 hora\n",
    "tasa_ocurrencia_promedio_por_intervalo = hist/1000\n",
    "\n",
    "# Devolver el resultado\n",
    "tasa_ocurrencia_promedio_por_intervalo"
   ]
  },
  {
   "cell_type": "code",
   "execution_count": 12,
   "metadata": {},
   "outputs": [
    {
     "data": {
      "image/png": "[encoded data removed]",
      "text/plain": [
       "<Figure size 1000x600 with 1 Axes>"
      ]
     },
     "metadata": {},
     "output_type": "display_data"
    }
   ],
   "source": [
    "import matplotlib.pyplot as plt\n",
    "import seaborn as sns\n",
    "sns.set_style(\"whitegrid\")\n",
    "\n",
    "# Ancho de las barras\n",
    "bar_width = 0.4\n",
    "\n",
    "# Posiciones para las barras\n",
    "r1 = np.arange(24)\n",
    "r2 = [x + bar_width for x in r1]\n",
    "\n",
    "# Crear la figura y las barras\n",
    "plt.figure(figsize=(10, 6))\n",
    "plt.bar(r1, arrivals_per_hour, color='blue', width=bar_width, alpha=0.7, label='Llegadas simuladas')\n",
    "plt.bar(r2, tasa_ocurrencia_promedio_por_intervalo, color='orange', width=bar_width, alpha=0.7, label='Tasa de ocurrencia promedio')\n",
    "\n",
    "# Títulos y etiquetas\n",
    "plt.title('Histograma de eventos por hora', fontsize=16)\n",
    "plt.xlabel('Hora', fontsize=14)\n",
    "plt.ylabel('Frecuencia', fontsize=14)\n",
    "plt.xticks([r + bar_width / 2 for r in range(24)], range(24), fontsize=12)\n",
    "plt.yticks(fontsize=12)\n",
    "\n",
    "# Mostrar la cuadrícula\n",
    "plt.grid(True)\n",
    "\n",
    "# Añadir leyenda\n",
    "plt.legend(loc='upper left', fontsize=12)\n",
    "\n",
    "# Mostrar el gráfico\n",
    "plt.show()"
   ]
  },
  {
   "cell_type": "markdown",
   "metadata": {},
   "source": [
    "### Tiempo de Servicio"
   ]
  },
  {
   "cell_type": "code",
   "execution_count": 13,
   "metadata": {},
   "outputs": [],
   "source": [
    "df_servicio = df[df['Nodo'] == 'Atención en Cajas']"
   ]
  },
  {
   "cell_type": "code",
   "execution_count": 14,
   "metadata": {},
   "outputs": [
    {
     "name": "stderr",
     "output_type": "stream",
     "text": [
      "C:\\Users\\Matías\\AppData\\Local\\Temp\\ipykernel_28552\\1901632215.py:6: SettingWithCopyWarning: \n",
      "A value is trying to be set on a copy of a slice from a DataFrame.\n",
      "Try using .loc[row_indexer,col_indexer] = value instead\n",
      "\n",
      "See the caveats in the documentation: https://pandas.pydata.org/pandas-docs/stable/user_guide/indexing.html#returning-a-view-versus-a-copy\n",
      "  df_servicio['Inicio'] = df_servicio['Inicio'].apply(convert_to_timedelta)\n",
      "C:\\Users\\Matías\\AppData\\Local\\Temp\\ipykernel_28552\\1901632215.py:7: SettingWithCopyWarning: \n",
      "A value is trying to be set on a copy of a slice from a DataFrame.\n",
      "Try using .loc[row_indexer,col_indexer] = value instead\n",
      "\n",
      "See the caveats in the documentation: https://pandas.pydata.org/pandas-docs/stable/user_guide/indexing.html#returning-a-view-versus-a-copy\n",
      "  df_servicio['Fin'] = df_servicio['Fin'].apply(convert_to_timedelta)\n",
      "C:\\Users\\Matías\\AppData\\Local\\Temp\\ipykernel_28552\\1901632215.py:9: SettingWithCopyWarning: \n",
      "A value is trying to be set on a copy of a slice from a DataFrame.\n",
      "Try using .loc[row_indexer,col_indexer] = value instead\n",
      "\n",
      "See the caveats in the documentation: https://pandas.pydata.org/pandas-docs/stable/user_guide/indexing.html#returning-a-view-versus-a-copy\n",
      "  df_servicio['Tiempo Servicio'] = df_servicio['Fin'] - df_servicio['Inicio']\n",
      "C:\\Users\\Matías\\AppData\\Local\\Temp\\ipykernel_28552\\1901632215.py:12: SettingWithCopyWarning: \n",
      "A value is trying to be set on a copy of a slice from a DataFrame.\n",
      "Try using .loc[row_indexer,col_indexer] = value instead\n",
      "\n",
      "See the caveats in the documentation: https://pandas.pydata.org/pandas-docs/stable/user_guide/indexing.html#returning-a-view-versus-a-copy\n",
      "  df_servicio['Duración en Horas'] = df_servicio['Tiempo Servicio'].dt.total_seconds() / 3600\n"
     ]
    }
   ],
   "source": [
    "# Convertir las columnas 'Inicio' y 'Fin' a formato de tiempo compatible\n",
    "def convert_to_timedelta(time_str):\n",
    "    d, h, m, s = map(int, time_str.split(':'))\n",
    "    return pd.Timedelta(days=d, hours=h, minutes=m, seconds=s)\n",
    "\n",
    "df_servicio['Inicio'] = df_servicio['Inicio'].apply(convert_to_timedelta)\n",
    "df_servicio['Fin'] = df_servicio['Fin'].apply(convert_to_timedelta)\n",
    "\n",
    "df_servicio['Tiempo Servicio'] = df_servicio['Fin'] - df_servicio['Inicio']\n",
    "\n",
    "# Convertir la duración a horas\n",
    "df_servicio['Duración en Horas'] = df_servicio['Tiempo Servicio'].dt.total_seconds() / 3600"
   ]
  },
  {
   "cell_type": "code",
   "execution_count": 15,
   "metadata": {},
   "outputs": [
    {
     "data": {
      "image/png": "[encoded data removed]",
      "text/plain": [
       "<Figure size 1000x600 with 1 Axes>"
      ]
     },
     "metadata": {},
     "output_type": "display_data"
    }
   ],
   "source": [
    "# Crear el histograma con intervalos de 1 hora\n",
    "plt.figure(figsize=(10, 6))\n",
    "plt.hist(df_servicio['Duración en Horas'], edgecolor='black', color='skyblue', alpha=0.7)\n",
    "\n",
    "# Títulos y etiquetas\n",
    "plt.title(\"Ocurrencia de Eventos en Intervalos de 1 Hora\", fontsize=16)\n",
    "plt.xlabel(\"Duración en Horas\", fontsize=14)\n",
    "plt.ylabel(\"Número de Eventos\", fontsize=14)\n",
    "plt.xticks(fontsize=12)\n",
    "plt.yticks(fontsize=12)\n",
    "\n",
    "# Mostrar la cuadrícula solo en el eje y\n",
    "plt.grid(axis='y', linestyle='--', alpha=0.7)\n",
    "\n",
    "# Mostrar el gráfico\n",
    "plt.show()"
   ]
  },
  {
   "cell_type": "code",
   "execution_count": 18,
   "metadata": {},
   "outputs": [
    {
     "data": {
      "text/html": [
       "<div>\n",
       "<style scoped>\n",
       "    .dataframe tbody tr th:only-of-type {\n",
       "        vertical-align: middle;\n",
       "    }\n",
       "\n",
       "    .dataframe tbody tr th {\n",
       "        vertical-align: top;\n",
       "    }\n",
       "\n",
       "    .dataframe thead th {\n",
       "        text-align: right;\n",
       "    }\n",
       "</style>\n",
       "<table border=\"1\" class=\"dataframe\">\n",
       "  <thead>\n",
       "    <tr style=\"text-align: right;\">\n",
       "      <th></th>\n",
       "      <th>sumsquare_error</th>\n",
       "      <th>aic</th>\n",
       "      <th>bic</th>\n",
       "      <th>kl_div</th>\n",
       "      <th>ks_statistic</th>\n",
       "      <th>ks_pvalue</th>\n",
       "    </tr>\n",
       "  </thead>\n",
       "  <tbody>\n",
       "    <tr>\n",
       "      <th>expon</th>\n",
       "      <td>0.009891</td>\n",
       "      <td>893.354832</td>\n",
       "      <td>914.262416</td>\n",
       "      <td>inf</td>\n",
       "      <td>0.001832</td>\n",
       "      <td>3.557415e-01</td>\n",
       "    </tr>\n",
       "    <tr>\n",
       "      <th>gamma</th>\n",
       "      <td>0.021165</td>\n",
       "      <td>887.940386</td>\n",
       "      <td>919.301761</td>\n",
       "      <td>inf</td>\n",
       "      <td>0.003348</td>\n",
       "      <td>6.397940e-03</td>\n",
       "    </tr>\n",
       "    <tr>\n",
       "      <th>lognorm</th>\n",
       "      <td>4.280536</td>\n",
       "      <td>618.366024</td>\n",
       "      <td>649.727400</td>\n",
       "      <td>inf</td>\n",
       "      <td>0.036412</td>\n",
       "      <td>1.370000e-295</td>\n",
       "    </tr>\n",
       "    <tr>\n",
       "      <th>beta</th>\n",
       "      <td>8.211116</td>\n",
       "      <td>1472.039404</td>\n",
       "      <td>1513.854571</td>\n",
       "      <td>inf</td>\n",
       "      <td>0.062972</td>\n",
       "      <td>0.000000e+00</td>\n",
       "    </tr>\n",
       "    <tr>\n",
       "      <th>norm</th>\n",
       "      <td>43.880112</td>\n",
       "      <td>3877.521790</td>\n",
       "      <td>3898.429374</td>\n",
       "      <td>inf</td>\n",
       "      <td>0.158532</td>\n",
       "      <td>0.000000e+00</td>\n",
       "    </tr>\n",
       "  </tbody>\n",
       "</table>\n",
       "</div>"
      ],
      "text/plain": [
       "         sumsquare_error          aic          bic  kl_div  ks_statistic  \\\n",
       "expon           0.009891   893.354832   914.262416     inf      0.001832   \n",
       "gamma           0.021165   887.940386   919.301761     inf      0.003348   \n",
       "lognorm         4.280536   618.366024   649.727400     inf      0.036412   \n",
       "beta            8.211116  1472.039404  1513.854571     inf      0.062972   \n",
       "norm           43.880112  3877.521790  3898.429374     inf      0.158532   \n",
       "\n",
       "             ks_pvalue  \n",
       "expon     3.557415e-01  \n",
       "gamma     6.397940e-03  \n",
       "lognorm  1.370000e-295  \n",
       "beta      0.000000e+00  \n",
       "norm      0.000000e+00  "
      ]
     },
     "execution_count": 18,
     "metadata": {},
     "output_type": "execute_result"
    },
    {
     "data": {
      "image/png": "[encoded data removed]",
      "text/plain": [
       "<Figure size 640x480 with 1 Axes>"
      ]
     },
     "metadata": {},
     "output_type": "display_data"
    }
   ],
   "source": [
    "from fitter import Fitter\n",
    "\n",
    "# Usar Fitter para ajustar la columna 'Duración en Horas' y detectar la mejor distribución\n",
    "f = Fitter(df_servicio['Duración en Horas'], distributions=['gamma', 'lognorm', 'beta', 'norm', 'expon'])\n",
    "f.fit()\n",
    "\n",
    "# Mostrar las mejores distribuciones encontradas\n",
    "f.summary()"
   ]
  },
  {
   "cell_type": "code",
   "execution_count": 19,
   "metadata": {},
   "outputs": [
    {
     "name": "stdout",
     "output_type": "stream",
     "text": [
      "La mejor distribución es: expon\n",
      "Parámetros de la mejor distribución: {'loc': 0.0, 'scale': 0.1663156965801959}\n"
     ]
    }
   ],
   "source": [
    "# Obtener la mejor distribución y sus parámetros\n",
    "best_distribution = f.get_best()\n",
    "best_distribution_name = list(best_distribution.keys())[0]\n",
    "best_distribution_params = best_distribution[best_distribution_name]\n",
    "\n",
    "print(f\"La mejor distribución es: {best_distribution_name}\")\n",
    "print(f\"Parámetros de la mejor distribución: {best_distribution_params}\")"
   ]
  },
  {
   "cell_type": "code",
   "execution_count": 20,
   "metadata": {},
   "outputs": [],
   "source": [
    "def generar_servicios(llegadas, tasa=0.1663156965801959):\n",
    "    return np.random.exponential(tasa, len(llegadas))\n",
    "\n",
    "def generar_incertidumbre(lambda_t, T_max):\n",
    "    llegadas = generar_poisson_no_homogeneo(lambda_t, T_max)\n",
    "    return list(llegadas), list(generar_servicios(llegadas))"
   ]
  },
  {
   "cell_type": "markdown",
   "metadata": {},
   "source": [
    "### Estadígrafos para Validar"
   ]
  },
  {
   "cell_type": "code",
   "execution_count": 21,
   "metadata": {},
   "outputs": [],
   "source": [
    "df = pd.read_excel('Datos.xlsx')"
   ]
  },
  {
   "cell_type": "code",
   "execution_count": 22,
   "metadata": {},
   "outputs": [
    {
     "name": "stdout",
     "output_type": "stream",
     "text": [
      "Porcentaje de clientes con Nodo 'Rechazo': 14.3990%\n"
     ]
    }
   ],
   "source": [
    "# Filtrar clientes con Nodo 'Rechazo'\n",
    "clientes_rechazo = df[df['Nodo'] == 'Rechazo']\n",
    "\n",
    "# Calcular el porcentaje\n",
    "porcentaje_rechazo = (len(clientes_rechazo) / df['ID Cliente'].max()) * 100\n",
    "\n",
    "print(f\"Porcentaje de clientes con Nodo 'Rechazo': {porcentaje_rechazo:.4f}%\")"
   ]
  },
  {
   "cell_type": "code",
   "execution_count": 23,
   "metadata": {},
   "outputs": [
    {
     "name": "stdout",
     "output_type": "stream",
     "text": [
      "Porcentaje de clientes con Nodo 'Lista de Espera': 49.5428%\n"
     ]
    }
   ],
   "source": [
    "# Filtrar clientes con Nodo 'Lista de Espera'\n",
    "clientes_lista_espera = df[df['Nodo'] == 'Lista de Espera']\n",
    "\n",
    "# Calcular el porcentaje\n",
    "porcentaje_lista_espera = (len(clientes_lista_espera) / df['ID Cliente'].max()) * 100\n",
    "\n",
    "print(f\"Porcentaje de clientes con Nodo 'Lista de Espera': {porcentaje_lista_espera:.4f}%\")"
   ]
  },
  {
   "cell_type": "code",
   "execution_count": 24,
   "metadata": {},
   "outputs": [],
   "source": [
    "df['Inicio'] = df['Inicio'].apply(convert_to_timedelta)\n",
    "df['Fin'] = df['Fin'].apply(convert_to_timedelta)\n",
    "\n",
    "# Filtrar filas con 'Lista de Espera' y 'Atención en Cajas'\n",
    "lista_espera = df[df['Nodo'] == 'Lista de Espera'].set_index('ID Cliente')\n",
    "atencion_cajas = df[df['Nodo'] == 'Atención en Cajas'].set_index('ID Cliente')\n",
    "\n",
    "# Unir ambos DataFrames por 'ID Cliente'\n",
    "merged = lista_espera[['Fin']].join(atencion_cajas[['Inicio']], lsuffix='_ListaEspera', rsuffix='_AtencionCajas')\n",
    "\n",
    "# Calcular la diferencia\n",
    "merged['Diferencia'] = merged['Inicio'] - merged['Fin']"
   ]
  },
  {
   "cell_type": "code",
   "execution_count": 25,
   "metadata": {},
   "outputs": [
    {
     "data": {
      "text/plain": [
       "Timedelta('0 days 00:10:13.763721331')"
      ]
     },
     "execution_count": 25,
     "metadata": {},
     "output_type": "execute_result"
    }
   ],
   "source": [
    "merged['Diferencia'].mean()"
   ]
  }
 ],
 "metadata": {
  "kernelspec": {
   "display_name": "Python 3",
   "language": "python",
   "name": "python3"
  },
  "language_info": {
   "codemirror_mode": {
    "name": "ipython",
    "version": 3
   },
   "file_extension": ".py",
   "mimetype": "text/x-python",
   "name": "python",
   "nbconvert_exporter": "python",
   "pygments_lexer": "ipython3",
   "version": "3.11.9"
  }
 },
 "nbformat": 4,
 "nbformat_minor": 2
}
