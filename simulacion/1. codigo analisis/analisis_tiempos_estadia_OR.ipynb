{
 "cells": [
  {
   "cell_type": "markdown",
   "id": "631df38c",
   "metadata": {},
   "source": [
    "# No modificar, todo funciona"
   ]
  },
  {
   "cell_type": "code",
   "execution_count": 20,
   "id": "b1f2692b",
   "metadata": {},
   "outputs": [],
   "source": [
    "# Librerias necesarias\n",
    "import pandas as pd\n",
    "import os\n",
    "import json"
   ]
  },
  {
   "cell_type": "code",
   "execution_count": 21,
   "id": "cb03928d",
   "metadata": {},
   "outputs": [],
   "source": [
    "# Cargar los datos\n",
    "df = pd.read_excel(\"../2. data/0 TimeLog (original, no modificar).xlsx\")"
   ]
  },
  {
   "cell_type": "code",
   "execution_count": 26,
   "id": "0847a736",
   "metadata": {},
   "outputs": [],
   "source": [
    "# Copio para no modificar el original\n",
    "tl = df.copy()\n",
    "# Agrego LOS a cada fila y reordeno\n",
    "tl[\"LOS\"] = (tl[\"TF\"] - tl[\"TI\"])\n"
   ]
  },
  {
   "cell_type": "code",
   "execution_count": 27,
   "id": "e3e60543",
   "metadata": {},
   "outputs": [
    {
     "data": {
      "text/plain": [
       "[['MS_GRD', 'LOS = 12', 'LOS = 24'],\n",
       " [1, 0.82487, 0.17513],\n",
       " [2, 0.78787, 0.21213],\n",
       " [3, 0.8561, 0.1439],\n",
       " [4, 0.84994, 0.15006],\n",
       " [5, 0.99358, 0.00642],\n",
       " [6, 1.0, 0],\n",
       " [7, 0.89594, 0.10406],\n",
       " [8, 0.90576, 0.09424]]"
      ]
     },
     "metadata": {},
     "output_type": "display_data"
    },
    {
     "data": {
      "text/plain": [
       "[['MS_GRD', 'LOS = 12', 'LOS = 24'],\n",
       " [1, 0.81692, 0.18308],\n",
       " [2, 0.78138, 0.21862],\n",
       " [3, 0.86486, 0.13514],\n",
       " [4, 0.84202, 0.15798],\n",
       " [5, 0.99008, 0.00992],\n",
       " [6, 1.0, 0],\n",
       " [7, 0.91046, 0.08954],\n",
       " [8, 0.90485, 0.09515]]"
      ]
     },
     "metadata": {},
     "output_type": "display_data"
    },
    {
     "data": {
      "text/plain": [
       "[['MS_GRD', 'LOS = 12', 'LOS = 24'],\n",
       " [1, 0.81719, 0.18281],\n",
       " [2, 0.77562, 0.22438],\n",
       " [3, 0.87247, 0.12753],\n",
       " [4, 0.84805, 0.15195],\n",
       " [5, 0.99125, 0.00875],\n",
       " [6, 1.0, 0],\n",
       " [7, 0.90361, 0.09639],\n",
       " [8, 0.91713, 0.08287]]"
      ]
     },
     "metadata": {},
     "output_type": "display_data"
    }
   ],
   "source": [
    "# Tabla para los OR\n",
    "resultados = {}\n",
    "\n",
    "tabla = {\n",
    "    1: [[\"MS_GRD\", \"LOS = 12\", \"LOS = 24\"]],\n",
    "    2: [[\"MS_GRD\", \"LOS = 12\", \"LOS = 24\"]],\n",
    "    3: [[\"MS_GRD\", \"LOS = 12\", \"LOS = 24\"]]\n",
    "}\n",
    "\n",
    "for hospital in range(1,4):\n",
    "    resultados[hospital] = {}\n",
    "    for grd in range(1,9):\n",
    "        for unidad in [\"OR\"]:\n",
    "            # ---- 1. Filter your dataset\n",
    "            tl_u = tl[tl[\"UNIDAD\"].isin([\"ICU\", \"OR\", \"SDU_WARD\"])]\n",
    "            v1 = tl_u[(tl_u[\"UNIDAD\"] == unidad) & (tl_u[\"MS_GRD\"] == grd) & (tl_u[\"HOSPITAL\"] == f\"Hospital_{hospital}\")]\n",
    "            # v1 = tl_u[(tl_u[\"UNIDAD\"] == unidad) & (tl_u[\"MS_GRD\"] == grd)]\n",
    "\n",
    "            # ---- 2. Get LOS value counts\n",
    "            vector = v1[\"LOS\"].value_counts().reset_index().sort_values(by=\"LOS\")\n",
    "            vector[\"%\"] = vector[\"count\"] / vector[\"count\"].sum()\n",
    "            vector1 = vector[[\"LOS\", \"%\"]].reset_index()\n",
    "\n",
    "            los_12 = 0\n",
    "            los_24 = 0\n",
    "            for index, row in vector1.iterrows():\n",
    "                if row[\"LOS\"] == 12:\n",
    "                    los_12 = row[\"%\"]\n",
    "                elif row[\"LOS\"] == 24:\n",
    "                    los_24 = row[\"%\"]\n",
    "\n",
    "            tabla[hospital].append([grd, round(los_12,5), round(los_24,5)])\n",
    "            resultados[hospital][grd] = {\"final_kde_pmf\": [los_12, los_24]}\n",
    "                    \n",
    "            \n",
    "\n",
    "    display(tabla[hospital])"
   ]
  },
  {
   "cell_type": "code",
   "execution_count": 28,
   "id": "cb0bcc88",
   "metadata": {},
   "outputs": [
    {
     "name": "stdout",
     "output_type": "stream",
     "text": [
      "Dictionary saved to: resultados incertidumbre/los_OR.json\n"
     ]
    }
   ],
   "source": [
    "def save_dict_as_json(data_dict, filename, folder):\n",
    "    os.makedirs(folder, exist_ok=True)  # Create folder if it doesn't exist\n",
    "    path = os.path.join(folder, filename)\n",
    "    with open(path, 'w') as f:\n",
    "        json.dump(data_dict, f, indent=4)\n",
    "    print(f\"Dictionary saved to: {path}\")\n",
    "\n",
    "# Save the results to a JSON file\n",
    "save_dict_as_json(resultados, filename=\"los_OR.json\", folder=\"resultados incertidumbre\")"
   ]
  },
  {
   "cell_type": "code",
   "execution_count": 29,
   "id": "51fe50eb",
   "metadata": {},
   "outputs": [
    {
     "name": "stdout",
     "output_type": "stream",
     "text": [
      "\n",
      "\\begin{table}[H]\n",
      "    \\centering\n",
      "    \\begin{tabular}{ccc}\n",
      "        \\toprule\n",
      "        MS\\_GRD & LOS = 12 & LOS = 24 \\\\\n",
      "        \\midrule\n",
      "        1 & 0.82487 & 0.17513 \\\\\n",
      "        2 & 0.78787 & 0.21213 \\\\\n",
      "        3 & 0.8561 & 0.1439 \\\\\n",
      "        4 & 0.84994 & 0.15006 \\\\\n",
      "        5 & 0.99358 & 0.00642 \\\\\n",
      "        6 & 1.0 & 0 \\\\\n",
      "        7 & 0.89594 & 0.10406 \\\\\n",
      "        8 & 0.90576 & 0.09424 \\\\\n",
      "        \\bottomrule\n",
      "    \\end{tabular}\n",
      "    \\caption{Probabilidad LOS en OR para Hospital: 1}\n",
      "    \\label{tab:Probabilidad LOS en OR para Hospital: 1}\n",
      "\\end{table}\n",
      "    \n",
      "\n",
      "\\begin{table}[H]\n",
      "    \\centering\n",
      "    \\begin{tabular}{ccc}\n",
      "        \\toprule\n",
      "        MS\\_GRD & LOS = 12 & LOS = 24 \\\\\n",
      "        \\midrule\n",
      "        1 & 0.81692 & 0.18308 \\\\\n",
      "        2 & 0.78138 & 0.21862 \\\\\n",
      "        3 & 0.86486 & 0.13514 \\\\\n",
      "        4 & 0.84202 & 0.15798 \\\\\n",
      "        5 & 0.99008 & 0.00992 \\\\\n",
      "        6 & 1.0 & 0 \\\\\n",
      "        7 & 0.91046 & 0.08954 \\\\\n",
      "        8 & 0.90485 & 0.09515 \\\\\n",
      "        \\bottomrule\n",
      "    \\end{tabular}\n",
      "    \\caption{Probabilidad LOS en OR para Hospital: 2}\n",
      "    \\label{tab:Probabilidad LOS en OR para Hospital: 2}\n",
      "\\end{table}\n",
      "    \n",
      "\n",
      "\\begin{table}[H]\n",
      "    \\centering\n",
      "    \\begin{tabular}{ccc}\n",
      "        \\toprule\n",
      "        MS\\_GRD & LOS = 12 & LOS = 24 \\\\\n",
      "        \\midrule\n",
      "        1 & 0.81719 & 0.18281 \\\\\n",
      "        2 & 0.77562 & 0.22438 \\\\\n",
      "        3 & 0.87247 & 0.12753 \\\\\n",
      "        4 & 0.84805 & 0.15195 \\\\\n",
      "        5 & 0.99125 & 0.00875 \\\\\n",
      "        6 & 1.0 & 0 \\\\\n",
      "        7 & 0.90361 & 0.09639 \\\\\n",
      "        8 & 0.91713 & 0.08287 \\\\\n",
      "        \\bottomrule\n",
      "    \\end{tabular}\n",
      "    \\caption{Probabilidad LOS en OR para Hospital: 3}\n",
      "    \\label{tab:Probabilidad LOS en OR para Hospital: 3}\n",
      "\\end{table}\n",
      "    \n"
     ]
    }
   ],
   "source": [
    "# Pasar a tablas de latex\n",
    "for key, h in tabla.items():\n",
    "\n",
    "    texto = f\"\"\"\n",
    "\\\\begin{{table}}[H]\n",
    "    \\\\centering\n",
    "    \\\\begin{{tabular}}{{ccc}}\n",
    "        \\\\toprule\n",
    "        MS\\_GRD & LOS = 12 & LOS = 24 \\\\\\\\\n",
    "        \\\\midrule\n",
    "        {h[1][0]} & {h[1][1]} & {h[1][2]} \\\\\\\\\n",
    "        {h[2][0]} & {h[2][1]} & {h[2][2]} \\\\\\\\\n",
    "        {h[3][0]} & {h[3][1]} & {h[3][2]} \\\\\\\\\n",
    "        {h[4][0]} & {h[4][1]} & {h[4][2]} \\\\\\\\\n",
    "        {h[5][0]} & {h[5][1]} & {h[5][2]} \\\\\\\\\n",
    "        {h[6][0]} & {h[6][1]} & {h[6][2]} \\\\\\\\\n",
    "        {h[7][0]} & {h[7][1]} & {h[7][2]} \\\\\\\\\n",
    "        {h[8][0]} & {h[8][1]} & {h[8][2]} \\\\\\\\\n",
    "        \\\\bottomrule\n",
    "    \\\\end{{tabular}}\n",
    "    \\\\caption{{Probabilidad LOS en OR para Hospital: {key}}}\n",
    "    \\\\label{{tab:Probabilidad LOS en OR para Hospital: {key}}}\n",
    "\\\\end{{table}}\n",
    "    \"\"\"\n",
    "\n",
    "    print(texto)"
   ]
  }
 ],
 "metadata": {
  "kernelspec": {
   "display_name": "Python 3",
   "language": "python",
   "name": "python3"
  },
  "language_info": {
   "codemirror_mode": {
    "name": "ipython",
    "version": 3
   },
   "file_extension": ".py",
   "mimetype": "text/x-python",
   "name": "python",
   "nbconvert_exporter": "python",
   "pygments_lexer": "ipython3",
   "version": "3.10.11"
  }
 },
 "nbformat": 4,
 "nbformat_minor": 5
}
